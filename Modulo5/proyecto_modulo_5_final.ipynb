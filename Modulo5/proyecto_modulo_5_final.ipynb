{
  "nbformat": 4,
  "nbformat_minor": 0,
  "metadata": {
    "colab": {
      "name": "proyecto_modulo_5_final",
      "provenance": []
    },
    "kernelspec": {
      "name": "python3",
      "display_name": "Python 3"
    },
    "language_info": {
      "name": "python"
    }
  },
  "cells": [
    {
      "cell_type": "markdown",
      "source": [
        "#Proyecto de HR\n"
      ],
      "metadata": {
        "id": "cHfviV8ske7_"
      }
    },
    {
      "cell_type": "markdown",
      "source": [
        "En este proyecto, buscamos hacer un análisis exploratorio de los datos de una base de datos donde colectamos la información de más de 14000 empleados de una empresa. En este documento, buscamos predecir la deserción de cientos empleados dependiendo de varias variables."
      ],
      "metadata": {
        "id": "Z1-lb4cNmFAG"
      }
    },
    {
      "cell_type": "markdown",
      "source": [
        "## Preparación de los datos."
      ],
      "metadata": {
        "id": "8C7_wCNnmjjb"
      }
    },
    {
      "cell_type": "code",
      "source": [
        "from google.colab import drive \n",
        "drive.mount('/content/drive')"
      ],
      "metadata": {
        "colab": {
          "base_uri": "https://localhost:8080/"
        },
        "id": "v2sTIbAIkdKM",
        "outputId": "fb0dc58b-3cf5-4135-8310-870804e5ced1"
      },
      "execution_count": null,
      "outputs": [
        {
          "output_type": "stream",
          "name": "stdout",
          "text": [
            "Mounted at /content/drive\n"
          ]
        }
      ]
    },
    {
      "cell_type": "code",
      "source": [
        "import pandas as pd\n",
        "import numpy as np\n",
        "import seaborn as sns\n",
        "import matplotlib.pyplot as plt"
      ],
      "metadata": {
        "id": "8WtDsuIZlJgQ"
      },
      "execution_count": null,
      "outputs": []
    },
    {
      "cell_type": "code",
      "source": [
        "df = pd.read_csv('/content/drive/MyDrive/HR_Dataset.csv')\n",
        "df.head()"
      ],
      "metadata": {
        "colab": {
          "base_uri": "https://localhost:8080/",
          "height": 206
        },
        "id": "8ZilY7c9lRIH",
        "outputId": "3c73571b-753c-49ea-a037-d909d73f46b8"
      },
      "execution_count": null,
      "outputs": [
        {
          "output_type": "execute_result",
          "data": {
            "text/plain": [
              "   satisfaction_level  last_evaluation  number_project  average_montly_hours  \\\n",
              "0                0.38             0.53               2                   157   \n",
              "1                0.80             0.86               5                   262   \n",
              "2                0.11             0.88               7                   272   \n",
              "3                0.72             0.87               5                   223   \n",
              "4                0.37             0.52               2                   159   \n",
              "\n",
              "   time_spend_company  Work_accident  left  promotion_last_5years  \\\n",
              "0                   3              0     1                      0   \n",
              "1                   6              0     1                      0   \n",
              "2                   4              0     1                      0   \n",
              "3                   5              0     1                      0   \n",
              "4                   3              0     1                      0   \n",
              "\n",
              "  Departments   salary  \n",
              "0        sales     low  \n",
              "1        sales  medium  \n",
              "2        sales  medium  \n",
              "3        sales     low  \n",
              "4        sales     low  "
            ],
            "text/html": [
              "\n",
              "  <div id=\"df-58e88f24-cdbf-4844-99db-ca424f314fcf\">\n",
              "    <div class=\"colab-df-container\">\n",
              "      <div>\n",
              "<style scoped>\n",
              "    .dataframe tbody tr th:only-of-type {\n",
              "        vertical-align: middle;\n",
              "    }\n",
              "\n",
              "    .dataframe tbody tr th {\n",
              "        vertical-align: top;\n",
              "    }\n",
              "\n",
              "    .dataframe thead th {\n",
              "        text-align: right;\n",
              "    }\n",
              "</style>\n",
              "<table border=\"1\" class=\"dataframe\">\n",
              "  <thead>\n",
              "    <tr style=\"text-align: right;\">\n",
              "      <th></th>\n",
              "      <th>satisfaction_level</th>\n",
              "      <th>last_evaluation</th>\n",
              "      <th>number_project</th>\n",
              "      <th>average_montly_hours</th>\n",
              "      <th>time_spend_company</th>\n",
              "      <th>Work_accident</th>\n",
              "      <th>left</th>\n",
              "      <th>promotion_last_5years</th>\n",
              "      <th>Departments</th>\n",
              "      <th>salary</th>\n",
              "    </tr>\n",
              "  </thead>\n",
              "  <tbody>\n",
              "    <tr>\n",
              "      <th>0</th>\n",
              "      <td>0.38</td>\n",
              "      <td>0.53</td>\n",
              "      <td>2</td>\n",
              "      <td>157</td>\n",
              "      <td>3</td>\n",
              "      <td>0</td>\n",
              "      <td>1</td>\n",
              "      <td>0</td>\n",
              "      <td>sales</td>\n",
              "      <td>low</td>\n",
              "    </tr>\n",
              "    <tr>\n",
              "      <th>1</th>\n",
              "      <td>0.80</td>\n",
              "      <td>0.86</td>\n",
              "      <td>5</td>\n",
              "      <td>262</td>\n",
              "      <td>6</td>\n",
              "      <td>0</td>\n",
              "      <td>1</td>\n",
              "      <td>0</td>\n",
              "      <td>sales</td>\n",
              "      <td>medium</td>\n",
              "    </tr>\n",
              "    <tr>\n",
              "      <th>2</th>\n",
              "      <td>0.11</td>\n",
              "      <td>0.88</td>\n",
              "      <td>7</td>\n",
              "      <td>272</td>\n",
              "      <td>4</td>\n",
              "      <td>0</td>\n",
              "      <td>1</td>\n",
              "      <td>0</td>\n",
              "      <td>sales</td>\n",
              "      <td>medium</td>\n",
              "    </tr>\n",
              "    <tr>\n",
              "      <th>3</th>\n",
              "      <td>0.72</td>\n",
              "      <td>0.87</td>\n",
              "      <td>5</td>\n",
              "      <td>223</td>\n",
              "      <td>5</td>\n",
              "      <td>0</td>\n",
              "      <td>1</td>\n",
              "      <td>0</td>\n",
              "      <td>sales</td>\n",
              "      <td>low</td>\n",
              "    </tr>\n",
              "    <tr>\n",
              "      <th>4</th>\n",
              "      <td>0.37</td>\n",
              "      <td>0.52</td>\n",
              "      <td>2</td>\n",
              "      <td>159</td>\n",
              "      <td>3</td>\n",
              "      <td>0</td>\n",
              "      <td>1</td>\n",
              "      <td>0</td>\n",
              "      <td>sales</td>\n",
              "      <td>low</td>\n",
              "    </tr>\n",
              "  </tbody>\n",
              "</table>\n",
              "</div>\n",
              "      <button class=\"colab-df-convert\" onclick=\"convertToInteractive('df-58e88f24-cdbf-4844-99db-ca424f314fcf')\"\n",
              "              title=\"Convert this dataframe to an interactive table.\"\n",
              "              style=\"display:none;\">\n",
              "        \n",
              "  <svg xmlns=\"http://www.w3.org/2000/svg\" height=\"24px\"viewBox=\"0 0 24 24\"\n",
              "       width=\"24px\">\n",
              "    <path d=\"M0 0h24v24H0V0z\" fill=\"none\"/>\n",
              "    <path d=\"M18.56 5.44l.94 2.06.94-2.06 2.06-.94-2.06-.94-.94-2.06-.94 2.06-2.06.94zm-11 1L8.5 8.5l.94-2.06 2.06-.94-2.06-.94L8.5 2.5l-.94 2.06-2.06.94zm10 10l.94 2.06.94-2.06 2.06-.94-2.06-.94-.94-2.06-.94 2.06-2.06.94z\"/><path d=\"M17.41 7.96l-1.37-1.37c-.4-.4-.92-.59-1.43-.59-.52 0-1.04.2-1.43.59L10.3 9.45l-7.72 7.72c-.78.78-.78 2.05 0 2.83L4 21.41c.39.39.9.59 1.41.59.51 0 1.02-.2 1.41-.59l7.78-7.78 2.81-2.81c.8-.78.8-2.07 0-2.86zM5.41 20L4 18.59l7.72-7.72 1.47 1.35L5.41 20z\"/>\n",
              "  </svg>\n",
              "      </button>\n",
              "      \n",
              "  <style>\n",
              "    .colab-df-container {\n",
              "      display:flex;\n",
              "      flex-wrap:wrap;\n",
              "      gap: 12px;\n",
              "    }\n",
              "\n",
              "    .colab-df-convert {\n",
              "      background-color: #E8F0FE;\n",
              "      border: none;\n",
              "      border-radius: 50%;\n",
              "      cursor: pointer;\n",
              "      display: none;\n",
              "      fill: #1967D2;\n",
              "      height: 32px;\n",
              "      padding: 0 0 0 0;\n",
              "      width: 32px;\n",
              "    }\n",
              "\n",
              "    .colab-df-convert:hover {\n",
              "      background-color: #E2EBFA;\n",
              "      box-shadow: 0px 1px 2px rgba(60, 64, 67, 0.3), 0px 1px 3px 1px rgba(60, 64, 67, 0.15);\n",
              "      fill: #174EA6;\n",
              "    }\n",
              "\n",
              "    [theme=dark] .colab-df-convert {\n",
              "      background-color: #3B4455;\n",
              "      fill: #D2E3FC;\n",
              "    }\n",
              "\n",
              "    [theme=dark] .colab-df-convert:hover {\n",
              "      background-color: #434B5C;\n",
              "      box-shadow: 0px 1px 3px 1px rgba(0, 0, 0, 0.15);\n",
              "      filter: drop-shadow(0px 1px 2px rgba(0, 0, 0, 0.3));\n",
              "      fill: #FFFFFF;\n",
              "    }\n",
              "  </style>\n",
              "\n",
              "      <script>\n",
              "        const buttonEl =\n",
              "          document.querySelector('#df-58e88f24-cdbf-4844-99db-ca424f314fcf button.colab-df-convert');\n",
              "        buttonEl.style.display =\n",
              "          google.colab.kernel.accessAllowed ? 'block' : 'none';\n",
              "\n",
              "        async function convertToInteractive(key) {\n",
              "          const element = document.querySelector('#df-58e88f24-cdbf-4844-99db-ca424f314fcf');\n",
              "          const dataTable =\n",
              "            await google.colab.kernel.invokeFunction('convertToInteractive',\n",
              "                                                     [key], {});\n",
              "          if (!dataTable) return;\n",
              "\n",
              "          const docLinkHtml = 'Like what you see? Visit the ' +\n",
              "            '<a target=\"_blank\" href=https://colab.research.google.com/notebooks/data_table.ipynb>data table notebook</a>'\n",
              "            + ' to learn more about interactive tables.';\n",
              "          element.innerHTML = '';\n",
              "          dataTable['output_type'] = 'display_data';\n",
              "          await google.colab.output.renderOutput(dataTable, element);\n",
              "          const docLink = document.createElement('div');\n",
              "          docLink.innerHTML = docLinkHtml;\n",
              "          element.appendChild(docLink);\n",
              "        }\n",
              "      </script>\n",
              "    </div>\n",
              "  </div>\n",
              "  "
            ]
          },
          "metadata": {},
          "execution_count": 4
        }
      ]
    },
    {
      "cell_type": "markdown",
      "source": [
        "Cambiamos el nombre de las columnas"
      ],
      "metadata": {
        "id": "dGrQGFOvnRlL"
      }
    },
    {
      "cell_type": "code",
      "source": [
        "df.rename({'last_evaluation' : 'performance',\n",
        "                      'Work_accident' : 'number_work_accidents',\n",
        "                      'left' : 'resign',\n",
        "                      'Departments ': 'department'}, axis = 'columns', inplace = True)"
      ],
      "metadata": {
        "id": "dcfvloUUnUDV"
      },
      "execution_count": null,
      "outputs": []
    },
    {
      "cell_type": "code",
      "source": [
        "df.dtypes"
      ],
      "metadata": {
        "colab": {
          "base_uri": "https://localhost:8080/"
        },
        "id": "71mF_kMWpsgD",
        "outputId": "15a57ede-0def-47b9-e3bb-f603bfbc06a0"
      },
      "execution_count": null,
      "outputs": [
        {
          "output_type": "execute_result",
          "data": {
            "text/plain": [
              "satisfaction_level       float64\n",
              "performance              float64\n",
              "number_project             int64\n",
              "average_montly_hours       int64\n",
              "time_spend_company         int64\n",
              "number_work_accidents      int64\n",
              "resign                     int64\n",
              "promotion_last_5years      int64\n",
              "department                object\n",
              "salary                    object\n",
              "dtype: object"
            ]
          },
          "metadata": {},
          "execution_count": 6
        }
      ]
    },
    {
      "cell_type": "markdown",
      "source": [
        "Checamos los valores únicos de las variables de clasificación."
      ],
      "metadata": {
        "id": "o1RWM_1Pmo0B"
      }
    },
    {
      "cell_type": "code",
      "source": [
        "df.resign.unique()"
      ],
      "metadata": {
        "colab": {
          "base_uri": "https://localhost:8080/"
        },
        "id": "RLnyXV_jlhwD",
        "outputId": "4477102f-cab2-4ae6-c4e0-53f2465cfee5"
      },
      "execution_count": null,
      "outputs": [
        {
          "output_type": "execute_result",
          "data": {
            "text/plain": [
              "array([1, 0])"
            ]
          },
          "metadata": {},
          "execution_count": 7
        }
      ]
    },
    {
      "cell_type": "code",
      "source": [
        "df.number_work_accidents.unique()"
      ],
      "metadata": {
        "colab": {
          "base_uri": "https://localhost:8080/"
        },
        "id": "BpE5SZz3mySA",
        "outputId": "09001a9b-5112-4d09-bf70-20899dd13163"
      },
      "execution_count": null,
      "outputs": [
        {
          "output_type": "execute_result",
          "data": {
            "text/plain": [
              "array([0, 1])"
            ]
          },
          "metadata": {},
          "execution_count": 8
        }
      ]
    },
    {
      "cell_type": "code",
      "source": [
        "df.promotion_last_5years.unique()"
      ],
      "metadata": {
        "colab": {
          "base_uri": "https://localhost:8080/"
        },
        "id": "ozGru-1Nm4FO",
        "outputId": "e8f00b04-cb11-4e61-82fb-3129829c02e4"
      },
      "execution_count": null,
      "outputs": [
        {
          "output_type": "execute_result",
          "data": {
            "text/plain": [
              "array([0, 1])"
            ]
          },
          "metadata": {},
          "execution_count": 9
        }
      ]
    },
    {
      "cell_type": "code",
      "source": [
        "df.salary.unique()"
      ],
      "metadata": {
        "colab": {
          "base_uri": "https://localhost:8080/"
        },
        "id": "K4yz4CIVm84Z",
        "outputId": "3bc24306-040f-404e-9929-b3de0a195090"
      },
      "execution_count": null,
      "outputs": [
        {
          "output_type": "execute_result",
          "data": {
            "text/plain": [
              "array(['low', 'medium', 'high'], dtype=object)"
            ]
          },
          "metadata": {},
          "execution_count": 10
        }
      ]
    },
    {
      "cell_type": "code",
      "source": [
        "df.department.unique()"
      ],
      "metadata": {
        "colab": {
          "base_uri": "https://localhost:8080/"
        },
        "id": "L8_i-_2hnMMT",
        "outputId": "0bae43b3-26c9-4fbf-fe7d-7e3452bfb14b"
      },
      "execution_count": null,
      "outputs": [
        {
          "output_type": "execute_result",
          "data": {
            "text/plain": [
              "array(['sales', 'accounting', 'hr', 'technical', 'support', 'management',\n",
              "       'IT', 'product_mng', 'marketing', 'RandD'], dtype=object)"
            ]
          },
          "metadata": {},
          "execution_count": 11
        }
      ]
    },
    {
      "cell_type": "code",
      "source": [
        "df.number_project.unique()"
      ],
      "metadata": {
        "colab": {
          "base_uri": "https://localhost:8080/"
        },
        "id": "i7ryXsXR0_de",
        "outputId": "5a1bfc8b-74e8-43f5-8739-0da6ff22f92a"
      },
      "execution_count": null,
      "outputs": [
        {
          "output_type": "execute_result",
          "data": {
            "text/plain": [
              "array([2, 5, 7, 6, 4, 3])"
            ]
          },
          "metadata": {},
          "execution_count": 12
        }
      ]
    },
    {
      "cell_type": "markdown",
      "source": [
        "Hacemos observaciones de valores nulos. \n",
        "\n",
        "Cabe destacar que, debido a la naturaleza de los datos que van de valores entre 0 y 1, es poco probable la presencia de datos nulos, como se observa en la gráfica boxplot a continuación."
      ],
      "metadata": {
        "id": "2XaVMKd0qd8s"
      }
    },
    {
      "cell_type": "code",
      "source": [
        "df.isnull().sum()"
      ],
      "metadata": {
        "colab": {
          "base_uri": "https://localhost:8080/"
        },
        "id": "k6PNeDZsqy3A",
        "outputId": "44f1e98d-523a-40b2-c6de-3c68ae35fda4"
      },
      "execution_count": null,
      "outputs": [
        {
          "output_type": "execute_result",
          "data": {
            "text/plain": [
              "satisfaction_level       0\n",
              "performance              0\n",
              "number_project           0\n",
              "average_montly_hours     0\n",
              "time_spend_company       0\n",
              "number_work_accidents    0\n",
              "resign                   0\n",
              "promotion_last_5years    0\n",
              "department               0\n",
              "salary                   0\n",
              "dtype: int64"
            ]
          },
          "metadata": {},
          "execution_count": 13
        }
      ]
    },
    {
      "cell_type": "code",
      "source": [
        "plt.figure(figsize=(12,12));\n",
        "df.boxplot(rot=90);"
      ],
      "metadata": {
        "colab": {
          "base_uri": "https://localhost:8080/",
          "height": 811
        },
        "id": "56hGDRSoq-UY",
        "outputId": "94052689-4f9a-4133-9601-ed81683003dc"
      },
      "execution_count": null,
      "outputs": [
        {
          "output_type": "display_data",
          "data": {
            "text/plain": [
              "<Figure size 864x864 with 1 Axes>"
            ],
            "image/png": "[encoded data removed]"
          },
          "metadata": {
            "needs_background": "light"
          }
        }
      ]
    },
    {
      "cell_type": "code",
      "source": [
        "print(df.duplicated().sum())"
      ],
      "metadata": {
        "colab": {
          "base_uri": "https://localhost:8080/"
        },
        "id": "nfwdfB8MvJUu",
        "outputId": "4b0bb5f6-f556-4e9a-98e1-86a1107fe547"
      },
      "execution_count": null,
      "outputs": [
        {
          "output_type": "stream",
          "name": "stdout",
          "text": [
            "3008\n"
          ]
        }
      ]
    },
    {
      "cell_type": "code",
      "source": [
        "df.drop_duplicates(inplace=True)"
      ],
      "metadata": {
        "id": "PMogKPcPvKP7"
      },
      "execution_count": null,
      "outputs": []
    },
    {
      "cell_type": "markdown",
      "source": [
        "## Análisis exploratorio."
      ],
      "metadata": {
        "id": "KlquKoJXsUUC"
      }
    },
    {
      "cell_type": "markdown",
      "source": [
        "Tomando como variable importante la deserción de personal, contamos todos los empleados que han renunciado en los últimos años y lo comparamos con la cantidad de años que tienen los empleados en la empresa."
      ],
      "metadata": {
        "id": "z8bITJ3Es5em"
      }
    },
    {
      "cell_type": "code",
      "source": [
        "df.resign.value_counts()"
      ],
      "metadata": {
        "colab": {
          "base_uri": "https://localhost:8080/"
        },
        "id": "VEP4dhAFsLqO",
        "outputId": "94708951-21f3-4f8f-aae8-f74218c46ecd"
      },
      "execution_count": null,
      "outputs": [
        {
          "output_type": "execute_result",
          "data": {
            "text/plain": [
              "0    10000\n",
              "1     1991\n",
              "Name: resign, dtype: int64"
            ]
          },
          "metadata": {},
          "execution_count": 17
        }
      ]
    },
    {
      "cell_type": "code",
      "source": [
        "df.groupby('resign').mean()"
      ],
      "metadata": {
        "colab": {
          "base_uri": "https://localhost:8080/"
        },
        "id": "AG8ghJYYtj7v",
        "outputId": "ee45c933-b20d-48f2-f959-4fcd80dff891"
      },
      "execution_count": null,
      "outputs": [
        {
          "output_type": "execute_result",
          "data": {
            "text/plain": [
              "        satisfaction_level  performance  number_project  average_montly_hours  \\\n",
              "resign                                                                          \n",
              "0                 0.667365     0.715667        3.786800             198.94270   \n",
              "1                 0.440271     0.721783        3.883476             208.16223   \n",
              "\n",
              "        time_spend_company  number_work_accidents  promotion_last_5years  \n",
              "resign                                                                    \n",
              "0                 3.262000               0.174500               0.019500  \n",
              "1                 3.881467               0.052737               0.004018  "
            ],
            "text/html": [
              "\n",
              "  <div id=\"df-ad2ae562-f4db-4a24-a90a-1196592b65a4\">\n",
              "    <div class=\"colab-df-container\">\n",
              "      <div>\n",
              "<style scoped>\n",
              "    .dataframe tbody tr th:only-of-type {\n",
              "        vertical-align: middle;\n",
              "    }\n",
              "\n",
              "    .dataframe tbody tr th {\n",
              "        vertical-align: top;\n",
              "    }\n",
              "\n",
              "    .dataframe thead th {\n",
              "        text-align: right;\n",
              "    }\n",
              "</style>\n",
              "<table border=\"1\" class=\"dataframe\">\n",
              "  <thead>\n",
              "    <tr style=\"text-align: right;\">\n",
              "      <th></th>\n",
              "      <th>satisfaction_level</th>\n",
              "      <th>performance</th>\n",
              "      <th>number_project</th>\n",
              "      <th>average_montly_hours</th>\n",
              "      <th>time_spend_company</th>\n",
              "      <th>number_work_accidents</th>\n",
              "      <th>promotion_last_5years</th>\n",
              "    </tr>\n",
              "    <tr>\n",
              "      <th>resign</th>\n",
              "      <th></th>\n",
              "      <th></th>\n",
              "      <th></th>\n",
              "      <th></th>\n",
              "      <th></th>\n",
              "      <th></th>\n",
              "      <th></th>\n",
              "    </tr>\n",
              "  </thead>\n",
              "  <tbody>\n",
              "    <tr>\n",
              "      <th>0</th>\n",
              "      <td>0.667365</td>\n",
              "      <td>0.715667</td>\n",
              "      <td>3.786800</td>\n",
              "      <td>198.94270</td>\n",
              "      <td>3.262000</td>\n",
              "      <td>0.174500</td>\n",
              "      <td>0.019500</td>\n",
              "    </tr>\n",
              "    <tr>\n",
              "      <th>1</th>\n",
              "      <td>0.440271</td>\n",
              "      <td>0.721783</td>\n",
              "      <td>3.883476</td>\n",
              "      <td>208.16223</td>\n",
              "      <td>3.881467</td>\n",
              "      <td>0.052737</td>\n",
              "      <td>0.004018</td>\n",
              "    </tr>\n",
              "  </tbody>\n",
              "</table>\n",
              "</div>\n",
              "      <button class=\"colab-df-convert\" onclick=\"convertToInteractive('df-ad2ae562-f4db-4a24-a90a-1196592b65a4')\"\n",
              "              title=\"Convert this dataframe to an interactive table.\"\n",
              "              style=\"display:none;\">\n",
              "        \n",
              "  <svg xmlns=\"http://www.w3.org/2000/svg\" height=\"24px\"viewBox=\"0 0 24 24\"\n",
              "       width=\"24px\">\n",
              "    <path d=\"M0 0h24v24H0V0z\" fill=\"none\"/>\n",
              "    <path d=\"M18.56 5.44l.94 2.06.94-2.06 2.06-.94-2.06-.94-.94-2.06-.94 2.06-2.06.94zm-11 1L8.5 8.5l.94-2.06 2.06-.94-2.06-.94L8.5 2.5l-.94 2.06-2.06.94zm10 10l.94 2.06.94-2.06 2.06-.94-2.06-.94-.94-2.06-.94 2.06-2.06.94z\"/><path d=\"M17.41 7.96l-1.37-1.37c-.4-.4-.92-.59-1.43-.59-.52 0-1.04.2-1.43.59L10.3 9.45l-7.72 7.72c-.78.78-.78 2.05 0 2.83L4 21.41c.39.39.9.59 1.41.59.51 0 1.02-.2 1.41-.59l7.78-7.78 2.81-2.81c.8-.78.8-2.07 0-2.86zM5.41 20L4 18.59l7.72-7.72 1.47 1.35L5.41 20z\"/>\n",
              "  </svg>\n",
              "      </button>\n",
              "      \n",
              "  <style>\n",
              "    .colab-df-container {\n",
              "      display:flex;\n",
              "      flex-wrap:wrap;\n",
              "      gap: 12px;\n",
              "    }\n",
              "\n",
              "    .colab-df-convert {\n",
              "      background-color: #E8F0FE;\n",
              "      border: none;\n",
              "      border-radius: 50%;\n",
              "      cursor: pointer;\n",
              "      display: none;\n",
              "      fill: #1967D2;\n",
              "      height: 32px;\n",
              "      padding: 0 0 0 0;\n",
              "      width: 32px;\n",
              "    }\n",
              "\n",
              "    .colab-df-convert:hover {\n",
              "      background-color: #E2EBFA;\n",
              "      box-shadow: 0px 1px 2px rgba(60, 64, 67, 0.3), 0px 1px 3px 1px rgba(60, 64, 67, 0.15);\n",
              "      fill: #174EA6;\n",
              "    }\n",
              "\n",
              "    [theme=dark] .colab-df-convert {\n",
              "      background-color: #3B4455;\n",
              "      fill: #D2E3FC;\n",
              "    }\n",
              "\n",
              "    [theme=dark] .colab-df-convert:hover {\n",
              "      background-color: #434B5C;\n",
              "      box-shadow: 0px 1px 3px 1px rgba(0, 0, 0, 0.15);\n",
              "      filter: drop-shadow(0px 1px 2px rgba(0, 0, 0, 0.3));\n",
              "      fill: #FFFFFF;\n",
              "    }\n",
              "  </style>\n",
              "\n",
              "      <script>\n",
              "        const buttonEl =\n",
              "          document.querySelector('#df-ad2ae562-f4db-4a24-a90a-1196592b65a4 button.colab-df-convert');\n",
              "        buttonEl.style.display =\n",
              "          google.colab.kernel.accessAllowed ? 'block' : 'none';\n",
              "\n",
              "        async function convertToInteractive(key) {\n",
              "          const element = document.querySelector('#df-ad2ae562-f4db-4a24-a90a-1196592b65a4');\n",
              "          const dataTable =\n",
              "            await google.colab.kernel.invokeFunction('convertToInteractive',\n",
              "                                                     [key], {});\n",
              "          if (!dataTable) return;\n",
              "\n",
              "          const docLinkHtml = 'Like what you see? Visit the ' +\n",
              "            '<a target=\"_blank\" href=https://colab.research.google.com/notebooks/data_table.ipynb>data table notebook</a>'\n",
              "            + ' to learn more about interactive tables.';\n",
              "          element.innerHTML = '';\n",
              "          dataTable['output_type'] = 'display_data';\n",
              "          await google.colab.output.renderOutput(dataTable, element);\n",
              "          const docLink = document.createElement('div');\n",
              "          docLink.innerHTML = docLinkHtml;\n",
              "          element.appendChild(docLink);\n",
              "        }\n",
              "      </script>\n",
              "    </div>\n",
              "  </div>\n",
              "  "
            ]
          },
          "metadata": {},
          "execution_count": 18
        }
      ]
    },
    {
      "cell_type": "code",
      "source": [
        "years_resign = df.groupby('time_spend_company')['resign'].sum()/df.groupby('time_spend_company')['resign'].count()"
      ],
      "metadata": {
        "id": "LJZaQIf5uZjH"
      },
      "execution_count": null,
      "outputs": []
    },
    {
      "cell_type": "code",
      "source": [
        "years_resign"
      ],
      "metadata": {
        "colab": {
          "base_uri": "https://localhost:8080/"
        },
        "id": "GhubnC_XvYOu",
        "outputId": "bef42050-5483-4445-b9b2-9156b65928db"
      },
      "execution_count": null,
      "outputs": [
        {
          "output_type": "execute_result",
          "data": {
            "text/plain": [
              "time_spend_company\n",
              "2     0.010653\n",
              "3     0.168401\n",
              "4     0.246883\n",
              "5     0.453861\n",
              "6     0.201107\n",
              "7     0.000000\n",
              "8     0.000000\n",
              "10    0.000000\n",
              "Name: resign, dtype: float64"
            ]
          },
          "metadata": {},
          "execution_count": 20
        }
      ]
    },
    {
      "cell_type": "code",
      "source": [
        "sns.barplot(x=years_resign.index,y=years_resign)"
      ],
      "metadata": {
        "colab": {
          "base_uri": "https://localhost:8080/"
        },
        "id": "QIDqfggFv8e9",
        "outputId": "5fa3e0f5-d4d9-42d4-aa7d-43bb2e831af2"
      },
      "execution_count": null,
      "outputs": [
        {
          "output_type": "execute_result",
          "data": {
            "text/plain": [
              "<matplotlib.axes._subplots.AxesSubplot at 0x7f4841cde750>"
            ]
          },
          "metadata": {},
          "execution_count": 21
        },
        {
          "output_type": "display_data",
          "data": {
            "text/plain": [
              "<Figure size 432x288 with 1 Axes>"
            ],
            "image/png": "[encoded data removed]"
          },
          "metadata": {
            "needs_background": "light"
          }
        }
      ]
    },
    {
      "cell_type": "code",
      "source": [
        "years_satisfaction = df.groupby('time_spend_company')['satisfaction_level'].mean()\n",
        "years_satisfaction"
      ],
      "metadata": {
        "colab": {
          "base_uri": "https://localhost:8080/"
        },
        "id": "RH4Iv5cMwpdn",
        "outputId": "764817ae-651c-41b3-844a-16f8602ca438"
      },
      "execution_count": null,
      "outputs": [
        {
          "output_type": "execute_result",
          "data": {
            "text/plain": [
              "time_spend_company\n",
              "2     0.699165\n",
              "3     0.648988\n",
              "4     0.516090\n",
              "5     0.583183\n",
              "6     0.571107\n",
              "7     0.635957\n",
              "8     0.665062\n",
              "10    0.655327\n",
              "Name: satisfaction_level, dtype: float64"
            ]
          },
          "metadata": {},
          "execution_count": 22
        }
      ]
    },
    {
      "cell_type": "code",
      "source": [
        "plt.figure(figsize=(12, 12))\n",
        "plot_satisfaction = sns.lineplot(x=years_satisfaction.index,y=years_satisfaction);\n",
        "sns.set(style=\"white\")\n",
        "plot_satisfaction.set_title('Employee satisfaction per year',  fontsize=20, pad=15);\n",
        "plot_satisfaction.set_xlabel(\"Years at the job\", fontsize = 20)\n",
        "plot_satisfaction.set_ylabel(\"Satisfaction\", fontsize = 20)\n"
      ],
      "metadata": {
        "colab": {
          "base_uri": "https://localhost:8080/"
        },
        "id": "bC_PVBYcxjs9",
        "outputId": "c8d275fe-e04f-45a7-c035-80a9c7c98a37"
      },
      "execution_count": null,
      "outputs": [
        {
          "output_type": "execute_result",
          "data": {
            "text/plain": [
              "Text(0, 0.5, 'Satisfaction')"
            ]
          },
          "metadata": {},
          "execution_count": 23
        },
        {
          "output_type": "display_data",
          "data": {
            "text/plain": [
              "<Figure size 864x864 with 1 Axes>"
            ],
            "image/png": "[encoded data removed]"
          },
          "metadata": {
            "needs_background": "light"
          }
        }
      ]
    },
    {
      "cell_type": "code",
      "source": [
        "salary_resign_count = df.groupby('salary')['resign'].sum()/df.groupby('salary')['resign'].count()\n",
        "salary_resign_count"
      ],
      "metadata": {
        "colab": {
          "base_uri": "https://localhost:8080/"
        },
        "id": "mAEUAAR9zdKo",
        "outputId": "ee8c0ea8-1e18-4ed7-8326-49fecb588a18"
      },
      "execution_count": null,
      "outputs": [
        {
          "output_type": "execute_result",
          "data": {
            "text/plain": [
              "salary\n",
              "high      0.048485\n",
              "low       0.204530\n",
              "medium    0.146170\n",
              "Name: resign, dtype: float64"
            ]
          },
          "metadata": {},
          "execution_count": 24
        }
      ]
    },
    {
      "cell_type": "code",
      "source": [
        "years_performance = df.groupby('time_spend_company')['performance'].mean()\n"
      ],
      "metadata": {
        "id": "7hnJ8ve203_Y"
      },
      "execution_count": null,
      "outputs": []
    },
    {
      "cell_type": "code",
      "source": [
        "plt.figure(figsize=(12, 12))\n",
        "plot_satisfaction = sns.lineplot(x=years_performance.index,y=years_performance);\n",
        "sns.set(style=\"white\")\n",
        "plot_satisfaction.set_title('Employee peformance per year',  fontsize=20, pad=15);\n",
        "plot_satisfaction.set_xlabel(\"Years at the job\", fontsize = 20)\n",
        "plot_satisfaction.set_ylabel(\"Performance\", fontsize = 20)"
      ],
      "metadata": {
        "colab": {
          "base_uri": "https://localhost:8080/"
        },
        "id": "DUTzTQRW1UpW",
        "outputId": "9a84572d-d7e9-4230-d497-5cf256a5498a"
      },
      "execution_count": null,
      "outputs": [
        {
          "output_type": "execute_result",
          "data": {
            "text/plain": [
              "Text(0, 0.5, 'Performance')"
            ]
          },
          "metadata": {},
          "execution_count": 26
        },
        {
          "output_type": "display_data",
          "data": {
            "text/plain": [
              "<Figure size 864x864 with 1 Axes>"
            ],
            "image/png": "[encoded data removed]"
          },
          "metadata": {}
        }
      ]
    },
    {
      "cell_type": "code",
      "source": [
        "department_satisfaction = df.groupby('department')['satisfaction_level'].mean()\n",
        "department_satisfaction"
      ],
      "metadata": {
        "colab": {
          "base_uri": "https://localhost:8080/"
        },
        "id": "mj7kHVng1oOe",
        "outputId": "eaaae55a-6cc5-44cb-8940-55759bc3c2ed"
      },
      "execution_count": null,
      "outputs": [
        {
          "output_type": "execute_result",
          "data": {
            "text/plain": [
              "department\n",
              "IT             0.634016\n",
              "RandD          0.627176\n",
              "accounting     0.607939\n",
              "hr             0.621947\n",
              "management     0.631995\n",
              "marketing      0.634770\n",
              "product_mng    0.629825\n",
              "sales          0.631349\n",
              "support        0.634822\n",
              "technical      0.627937\n",
              "Name: satisfaction_level, dtype: float64"
            ]
          },
          "metadata": {},
          "execution_count": 27
        }
      ]
    },
    {
      "cell_type": "code",
      "source": [
        "department_performance = df.groupby('department')['performance'].mean()\n",
        "department_performance"
      ],
      "metadata": {
        "colab": {
          "base_uri": "https://localhost:8080/"
        },
        "id": "zvx8ZNXV22xJ",
        "outputId": "47a6a07e-bf83-4312-f544-dc0ba507872b"
      },
      "execution_count": null,
      "outputs": [
        {
          "output_type": "execute_result",
          "data": {
            "text/plain": [
              "department\n",
              "IT             0.715051\n",
              "RandD          0.712983\n",
              "accounting     0.721900\n",
              "hr             0.715691\n",
              "management     0.726307\n",
              "marketing      0.718440\n",
              "product_mng    0.713790\n",
              "sales          0.710398\n",
              "support        0.722998\n",
              "technical      0.719791\n",
              "Name: performance, dtype: float64"
            ]
          },
          "metadata": {},
          "execution_count": 28
        }
      ]
    },
    {
      "cell_type": "code",
      "source": [
        "department_resign = (df.groupby('department')['resign'].sum()/df.groupby('department')['resign'].count()).sort_values(ascending = True)\n",
        "department_resign"
      ],
      "metadata": {
        "colab": {
          "base_uri": "https://localhost:8080/"
        },
        "id": "yM1zgt_i2cBt",
        "outputId": "d008ceb0-8c92-4c7c-9f74-2dd9c93e9e1a"
      },
      "execution_count": null,
      "outputs": [
        {
          "output_type": "execute_result",
          "data": {
            "text/plain": [
              "department\n",
              "management     0.119266\n",
              "RandD          0.122478\n",
              "product_mng    0.160350\n",
              "IT             0.161885\n",
              "marketing      0.166419\n",
              "sales          0.169805\n",
              "support        0.171334\n",
              "technical      0.173797\n",
              "accounting     0.175523\n",
              "hr             0.188020\n",
              "Name: resign, dtype: float64"
            ]
          },
          "metadata": {},
          "execution_count": 29
        }
      ]
    },
    {
      "cell_type": "code",
      "source": [
        "plt.figure(figsize=(12, 12))\n",
        "sns.barplot(y=department_resign.index,x=department_resign)\n",
        "plt.axvline(x=department_resign.mean())"
      ],
      "metadata": {
        "colab": {
          "base_uri": "https://localhost:8080/"
        },
        "id": "x0RAUO-U3R3t",
        "outputId": "d7c34777-3a44-4bce-df09-43b705749575"
      },
      "execution_count": null,
      "outputs": [
        {
          "output_type": "execute_result",
          "data": {
            "text/plain": [
              "<matplotlib.lines.Line2D at 0x7f4842842d90>"
            ]
          },
          "metadata": {},
          "execution_count": 30
        },
        {
          "output_type": "display_data",
          "data": {
            "text/plain": [
              "<Figure size 864x864 with 1 Axes>"
            ],
            "image/png": "[encoded data removed]"
          },
          "metadata": {}
        }
      ]
    },
    {
      "cell_type": "code",
      "source": [
        "hours_department = df.groupby('department')[('average_montly_hours','salary')].mean()\n",
        "hours_department"
      ],
      "metadata": {
        "colab": {
          "base_uri": "https://localhost:8080/"
        },
        "id": "WXL2zPJwVkVv",
        "outputId": "b24214ef-7d67-4076-d42b-63cb1bcddfcf"
      },
      "execution_count": null,
      "outputs": [
        {
          "output_type": "stream",
          "name": "stderr",
          "text": [
            "/usr/local/lib/python3.7/dist-packages/ipykernel_launcher.py:1: FutureWarning: Indexing with multiple keys (implicitly converted to a tuple of keys) will be deprecated, use a list instead.\n",
            "  \"\"\"Entry point for launching an IPython kernel.\n"
          ]
        },
        {
          "output_type": "execute_result",
          "data": {
            "text/plain": [
              "             average_montly_hours\n",
              "department                       \n",
              "IT                     200.638320\n",
              "RandD                  201.291066\n",
              "accounting             200.877617\n",
              "hr                     199.371048\n",
              "management             201.529817\n",
              "marketing              199.487370\n",
              "product_mng            198.893586\n",
              "sales                  200.242050\n",
              "support                200.627128\n",
              "technical              201.115419"
            ],
            "text/html": [
              "\n",
              "  <div id=\"df-6f7e34cf-05ef-46b0-be1a-cc66943353ca\">\n",
              "    <div class=\"colab-df-container\">\n",
              "      <div>\n",
              "<style scoped>\n",
              "    .dataframe tbody tr th:only-of-type {\n",
              "        vertical-align: middle;\n",
              "    }\n",
              "\n",
              "    .dataframe tbody tr th {\n",
              "        vertical-align: top;\n",
              "    }\n",
              "\n",
              "    .dataframe thead th {\n",
              "        text-align: right;\n",
              "    }\n",
              "</style>\n",
              "<table border=\"1\" class=\"dataframe\">\n",
              "  <thead>\n",
              "    <tr style=\"text-align: right;\">\n",
              "      <th></th>\n",
              "      <th>average_montly_hours</th>\n",
              "    </tr>\n",
              "    <tr>\n",
              "      <th>department</th>\n",
              "      <th></th>\n",
              "    </tr>\n",
              "  </thead>\n",
              "  <tbody>\n",
              "    <tr>\n",
              "      <th>IT</th>\n",
              "      <td>200.638320</td>\n",
              "    </tr>\n",
              "    <tr>\n",
              "      <th>RandD</th>\n",
              "      <td>201.291066</td>\n",
              "    </tr>\n",
              "    <tr>\n",
              "      <th>accounting</th>\n",
              "      <td>200.877617</td>\n",
              "    </tr>\n",
              "    <tr>\n",
              "      <th>hr</th>\n",
              "      <td>199.371048</td>\n",
              "    </tr>\n",
              "    <tr>\n",
              "      <th>management</th>\n",
              "      <td>201.529817</td>\n",
              "    </tr>\n",
              "    <tr>\n",
              "      <th>marketing</th>\n",
              "      <td>199.487370</td>\n",
              "    </tr>\n",
              "    <tr>\n",
              "      <th>product_mng</th>\n",
              "      <td>198.893586</td>\n",
              "    </tr>\n",
              "    <tr>\n",
              "      <th>sales</th>\n",
              "      <td>200.242050</td>\n",
              "    </tr>\n",
              "    <tr>\n",
              "      <th>support</th>\n",
              "      <td>200.627128</td>\n",
              "    </tr>\n",
              "    <tr>\n",
              "      <th>technical</th>\n",
              "      <td>201.115419</td>\n",
              "    </tr>\n",
              "  </tbody>\n",
              "</table>\n",
              "</div>\n",
              "      <button class=\"colab-df-convert\" onclick=\"convertToInteractive('df-6f7e34cf-05ef-46b0-be1a-cc66943353ca')\"\n",
              "              title=\"Convert this dataframe to an interactive table.\"\n",
              "              style=\"display:none;\">\n",
              "        \n",
              "  <svg xmlns=\"http://www.w3.org/2000/svg\" height=\"24px\"viewBox=\"0 0 24 24\"\n",
              "       width=\"24px\">\n",
              "    <path d=\"M0 0h24v24H0V0z\" fill=\"none\"/>\n",
              "    <path d=\"M18.56 5.44l.94 2.06.94-2.06 2.06-.94-2.06-.94-.94-2.06-.94 2.06-2.06.94zm-11 1L8.5 8.5l.94-2.06 2.06-.94-2.06-.94L8.5 2.5l-.94 2.06-2.06.94zm10 10l.94 2.06.94-2.06 2.06-.94-2.06-.94-.94-2.06-.94 2.06-2.06.94z\"/><path d=\"M17.41 7.96l-1.37-1.37c-.4-.4-.92-.59-1.43-.59-.52 0-1.04.2-1.43.59L10.3 9.45l-7.72 7.72c-.78.78-.78 2.05 0 2.83L4 21.41c.39.39.9.59 1.41.59.51 0 1.02-.2 1.41-.59l7.78-7.78 2.81-2.81c.8-.78.8-2.07 0-2.86zM5.41 20L4 18.59l7.72-7.72 1.47 1.35L5.41 20z\"/>\n",
              "  </svg>\n",
              "      </button>\n",
              "      \n",
              "  <style>\n",
              "    .colab-df-container {\n",
              "      display:flex;\n",
              "      flex-wrap:wrap;\n",
              "      gap: 12px;\n",
              "    }\n",
              "\n",
              "    .colab-df-convert {\n",
              "      background-color: #E8F0FE;\n",
              "      border: none;\n",
              "      border-radius: 50%;\n",
              "      cursor: pointer;\n",
              "      display: none;\n",
              "      fill: #1967D2;\n",
              "      height: 32px;\n",
              "      padding: 0 0 0 0;\n",
              "      width: 32px;\n",
              "    }\n",
              "\n",
              "    .colab-df-convert:hover {\n",
              "      background-color: #E2EBFA;\n",
              "      box-shadow: 0px 1px 2px rgba(60, 64, 67, 0.3), 0px 1px 3px 1px rgba(60, 64, 67, 0.15);\n",
              "      fill: #174EA6;\n",
              "    }\n",
              "\n",
              "    [theme=dark] .colab-df-convert {\n",
              "      background-color: #3B4455;\n",
              "      fill: #D2E3FC;\n",
              "    }\n",
              "\n",
              "    [theme=dark] .colab-df-convert:hover {\n",
              "      background-color: #434B5C;\n",
              "      box-shadow: 0px 1px 3px 1px rgba(0, 0, 0, 0.15);\n",
              "      filter: drop-shadow(0px 1px 2px rgba(0, 0, 0, 0.3));\n",
              "      fill: #FFFFFF;\n",
              "    }\n",
              "  </style>\n",
              "\n",
              "      <script>\n",
              "        const buttonEl =\n",
              "          document.querySelector('#df-6f7e34cf-05ef-46b0-be1a-cc66943353ca button.colab-df-convert');\n",
              "        buttonEl.style.display =\n",
              "          google.colab.kernel.accessAllowed ? 'block' : 'none';\n",
              "\n",
              "        async function convertToInteractive(key) {\n",
              "          const element = document.querySelector('#df-6f7e34cf-05ef-46b0-be1a-cc66943353ca');\n",
              "          const dataTable =\n",
              "            await google.colab.kernel.invokeFunction('convertToInteractive',\n",
              "                                                     [key], {});\n",
              "          if (!dataTable) return;\n",
              "\n",
              "          const docLinkHtml = 'Like what you see? Visit the ' +\n",
              "            '<a target=\"_blank\" href=https://colab.research.google.com/notebooks/data_table.ipynb>data table notebook</a>'\n",
              "            + ' to learn more about interactive tables.';\n",
              "          element.innerHTML = '';\n",
              "          dataTable['output_type'] = 'display_data';\n",
              "          await google.colab.output.renderOutput(dataTable, element);\n",
              "          const docLink = document.createElement('div');\n",
              "          docLink.innerHTML = docLinkHtml;\n",
              "          element.appendChild(docLink);\n",
              "        }\n",
              "      </script>\n",
              "    </div>\n",
              "  </div>\n",
              "  "
            ]
          },
          "metadata": {},
          "execution_count": 31
        }
      ]
    },
    {
      "cell_type": "code",
      "source": [
        "hours_department = pd.crosstab(df['department'], df['salary'])\n",
        "hours_department"
      ],
      "metadata": {
        "id": "P3X3-orrWsDg",
        "colab": {
          "base_uri": "https://localhost:8080/"
        },
        "outputId": "362fb42c-2bc6-4183-e05a-324d0449fbc5"
      },
      "execution_count": null,
      "outputs": [
        {
          "output_type": "execute_result",
          "data": {
            "text/plain": [
              "salary       high   low  medium\n",
              "department                     \n",
              "IT             71   476     429\n",
              "RandD          47   322     325\n",
              "accounting     63   296     262\n",
              "hr             38   296     267\n",
              "management    128   139     169\n",
              "marketing      62   310     301\n",
              "product_mng    52   343     291\n",
              "sales         237  1553    1449\n",
              "support       126   867     828\n",
              "technical     166  1138     940"
            ],
            "text/html": [
              "\n",
              "  <div id=\"df-c94ae567-ac0f-4b8a-b443-b2eaf31d63ea\">\n",
              "    <div class=\"colab-df-container\">\n",
              "      <div>\n",
              "<style scoped>\n",
              "    .dataframe tbody tr th:only-of-type {\n",
              "        vertical-align: middle;\n",
              "    }\n",
              "\n",
              "    .dataframe tbody tr th {\n",
              "        vertical-align: top;\n",
              "    }\n",
              "\n",
              "    .dataframe thead th {\n",
              "        text-align: right;\n",
              "    }\n",
              "</style>\n",
              "<table border=\"1\" class=\"dataframe\">\n",
              "  <thead>\n",
              "    <tr style=\"text-align: right;\">\n",
              "      <th>salary</th>\n",
              "      <th>high</th>\n",
              "      <th>low</th>\n",
              "      <th>medium</th>\n",
              "    </tr>\n",
              "    <tr>\n",
              "      <th>department</th>\n",
              "      <th></th>\n",
              "      <th></th>\n",
              "      <th></th>\n",
              "    </tr>\n",
              "  </thead>\n",
              "  <tbody>\n",
              "    <tr>\n",
              "      <th>IT</th>\n",
              "      <td>71</td>\n",
              "      <td>476</td>\n",
              "      <td>429</td>\n",
              "    </tr>\n",
              "    <tr>\n",
              "      <th>RandD</th>\n",
              "      <td>47</td>\n",
              "      <td>322</td>\n",
              "      <td>325</td>\n",
              "    </tr>\n",
              "    <tr>\n",
              "      <th>accounting</th>\n",
              "      <td>63</td>\n",
              "      <td>296</td>\n",
              "      <td>262</td>\n",
              "    </tr>\n",
              "    <tr>\n",
              "      <th>hr</th>\n",
              "      <td>38</td>\n",
              "      <td>296</td>\n",
              "      <td>267</td>\n",
              "    </tr>\n",
              "    <tr>\n",
              "      <th>management</th>\n",
              "      <td>128</td>\n",
              "      <td>139</td>\n",
              "      <td>169</td>\n",
              "    </tr>\n",
              "    <tr>\n",
              "      <th>marketing</th>\n",
              "      <td>62</td>\n",
              "      <td>310</td>\n",
              "      <td>301</td>\n",
              "    </tr>\n",
              "    <tr>\n",
              "      <th>product_mng</th>\n",
              "      <td>52</td>\n",
              "      <td>343</td>\n",
              "      <td>291</td>\n",
              "    </tr>\n",
              "    <tr>\n",
              "      <th>sales</th>\n",
              "      <td>237</td>\n",
              "      <td>1553</td>\n",
              "      <td>1449</td>\n",
              "    </tr>\n",
              "    <tr>\n",
              "      <th>support</th>\n",
              "      <td>126</td>\n",
              "      <td>867</td>\n",
              "      <td>828</td>\n",
              "    </tr>\n",
              "    <tr>\n",
              "      <th>technical</th>\n",
              "      <td>166</td>\n",
              "      <td>1138</td>\n",
              "      <td>940</td>\n",
              "    </tr>\n",
              "  </tbody>\n",
              "</table>\n",
              "</div>\n",
              "      <button class=\"colab-df-convert\" onclick=\"convertToInteractive('df-c94ae567-ac0f-4b8a-b443-b2eaf31d63ea')\"\n",
              "              title=\"Convert this dataframe to an interactive table.\"\n",
              "              style=\"display:none;\">\n",
              "        \n",
              "  <svg xmlns=\"http://www.w3.org/2000/svg\" height=\"24px\"viewBox=\"0 0 24 24\"\n",
              "       width=\"24px\">\n",
              "    <path d=\"M0 0h24v24H0V0z\" fill=\"none\"/>\n",
              "    <path d=\"M18.56 5.44l.94 2.06.94-2.06 2.06-.94-2.06-.94-.94-2.06-.94 2.06-2.06.94zm-11 1L8.5 8.5l.94-2.06 2.06-.94-2.06-.94L8.5 2.5l-.94 2.06-2.06.94zm10 10l.94 2.06.94-2.06 2.06-.94-2.06-.94-.94-2.06-.94 2.06-2.06.94z\"/><path d=\"M17.41 7.96l-1.37-1.37c-.4-.4-.92-.59-1.43-.59-.52 0-1.04.2-1.43.59L10.3 9.45l-7.72 7.72c-.78.78-.78 2.05 0 2.83L4 21.41c.39.39.9.59 1.41.59.51 0 1.02-.2 1.41-.59l7.78-7.78 2.81-2.81c.8-.78.8-2.07 0-2.86zM5.41 20L4 18.59l7.72-7.72 1.47 1.35L5.41 20z\"/>\n",
              "  </svg>\n",
              "      </button>\n",
              "      \n",
              "  <style>\n",
              "    .colab-df-container {\n",
              "      display:flex;\n",
              "      flex-wrap:wrap;\n",
              "      gap: 12px;\n",
              "    }\n",
              "\n",
              "    .colab-df-convert {\n",
              "      background-color: #E8F0FE;\n",
              "      border: none;\n",
              "      border-radius: 50%;\n",
              "      cursor: pointer;\n",
              "      display: none;\n",
              "      fill: #1967D2;\n",
              "      height: 32px;\n",
              "      padding: 0 0 0 0;\n",
              "      width: 32px;\n",
              "    }\n",
              "\n",
              "    .colab-df-convert:hover {\n",
              "      background-color: #E2EBFA;\n",
              "      box-shadow: 0px 1px 2px rgba(60, 64, 67, 0.3), 0px 1px 3px 1px rgba(60, 64, 67, 0.15);\n",
              "      fill: #174EA6;\n",
              "    }\n",
              "\n",
              "    [theme=dark] .colab-df-convert {\n",
              "      background-color: #3B4455;\n",
              "      fill: #D2E3FC;\n",
              "    }\n",
              "\n",
              "    [theme=dark] .colab-df-convert:hover {\n",
              "      background-color: #434B5C;\n",
              "      box-shadow: 0px 1px 3px 1px rgba(0, 0, 0, 0.15);\n",
              "      filter: drop-shadow(0px 1px 2px rgba(0, 0, 0, 0.3));\n",
              "      fill: #FFFFFF;\n",
              "    }\n",
              "  </style>\n",
              "\n",
              "      <script>\n",
              "        const buttonEl =\n",
              "          document.querySelector('#df-c94ae567-ac0f-4b8a-b443-b2eaf31d63ea button.colab-df-convert');\n",
              "        buttonEl.style.display =\n",
              "          google.colab.kernel.accessAllowed ? 'block' : 'none';\n",
              "\n",
              "        async function convertToInteractive(key) {\n",
              "          const element = document.querySelector('#df-c94ae567-ac0f-4b8a-b443-b2eaf31d63ea');\n",
              "          const dataTable =\n",
              "            await google.colab.kernel.invokeFunction('convertToInteractive',\n",
              "                                                     [key], {});\n",
              "          if (!dataTable) return;\n",
              "\n",
              "          const docLinkHtml = 'Like what you see? Visit the ' +\n",
              "            '<a target=\"_blank\" href=https://colab.research.google.com/notebooks/data_table.ipynb>data table notebook</a>'\n",
              "            + ' to learn more about interactive tables.';\n",
              "          element.innerHTML = '';\n",
              "          dataTable['output_type'] = 'display_data';\n",
              "          await google.colab.output.renderOutput(dataTable, element);\n",
              "          const docLink = document.createElement('div');\n",
              "          docLink.innerHTML = docLinkHtml;\n",
              "          element.appendChild(docLink);\n",
              "        }\n",
              "      </script>\n",
              "    </div>\n",
              "  </div>\n",
              "  "
            ]
          },
          "metadata": {},
          "execution_count": 32
        }
      ]
    },
    {
      "cell_type": "code",
      "source": [
        "figure_stacked = plt.figure(figsize=(10,8))\n",
        "ax = figure_stacked.add_subplot()\n",
        "plot_stacked = hours_department.plot(kind='bar', stacked=True, ax=ax)"
      ],
      "metadata": {
        "colab": {
          "base_uri": "https://localhost:8080/"
        },
        "id": "JgFw5woWdStw",
        "outputId": "a2041913-122f-4c61-a1dd-098641f984bd"
      },
      "execution_count": null,
      "outputs": [
        {
          "output_type": "display_data",
          "data": {
            "text/plain": [
              "<Figure size 720x576 with 1 Axes>"
            ],
            "image/png": "[encoded data removed]"
          },
          "metadata": {}
        }
      ]
    },
    {
      "cell_type": "code",
      "source": [
        "accident_department = (df.groupby('department')['number_work_accidents'].sum()/df.groupby('department')['number_work_accidents'].count()).sort_values(ascending=True)\n",
        "accident_department"
      ],
      "metadata": {
        "colab": {
          "base_uri": "https://localhost:8080/"
        },
        "id": "IXy7IIuWdr6n",
        "outputId": "26506be2-c6e2-4e61-f352-db2630d39f1e"
      },
      "execution_count": null,
      "outputs": [
        {
          "output_type": "execute_result",
          "data": {
            "text/plain": [
              "department\n",
              "hr             0.133111\n",
              "accounting     0.140097\n",
              "IT             0.142418\n",
              "technical      0.151070\n",
              "sales          0.153751\n",
              "product_mng    0.158892\n",
              "marketing      0.160475\n",
              "support        0.164195\n",
              "management     0.165138\n",
              "RandD          0.171470\n",
              "Name: number_work_accidents, dtype: float64"
            ]
          },
          "metadata": {},
          "execution_count": 34
        }
      ]
    },
    {
      "cell_type": "code",
      "source": [
        "plt.figure(figsize=(12, 12))\n",
        "sns.barplot(y=accident_department.index,x=accident_department)\n",
        "plt.axvline(x=accident_department.mean())"
      ],
      "metadata": {
        "colab": {
          "base_uri": "https://localhost:8080/"
        },
        "id": "W5orcFlveU9R",
        "outputId": "71b6ca2d-b396-47d8-ca0e-7856d501fb27"
      },
      "execution_count": null,
      "outputs": [
        {
          "output_type": "execute_result",
          "data": {
            "text/plain": [
              "<matplotlib.lines.Line2D at 0x7f4841f98590>"
            ]
          },
          "metadata": {},
          "execution_count": 35
        },
        {
          "output_type": "display_data",
          "data": {
            "text/plain": [
              "<Figure size 864x864 with 1 Axes>"
            ],
            "image/png": "[encoded data removed]"
          },
          "metadata": {}
        }
      ]
    },
    {
      "cell_type": "code",
      "source": [
        "salary_projects = df.groupby('salary')['number_project'].sum()/df['number_project'].sum()\n",
        "salary_projects"
      ],
      "metadata": {
        "colab": {
          "base_uri": "https://localhost:8080/"
        },
        "id": "rA89R47QfrTi",
        "outputId": "c2e3e525-6e59-44d2-931e-e19201129095"
      },
      "execution_count": null,
      "outputs": [
        {
          "output_type": "execute_result",
          "data": {
            "text/plain": [
              "salary\n",
              "high      0.082325\n",
              "low       0.478553\n",
              "medium    0.439123\n",
              "Name: number_project, dtype: float64"
            ]
          },
          "metadata": {},
          "execution_count": 36
        }
      ]
    },
    {
      "cell_type": "code",
      "source": [
        "plt.figure(figsize=(12, 12))\n",
        "colors = sns.color_palette('pastel')[0:3]\n",
        "labels = salary_projects.index\n",
        "plt.pie(salary_projects, labels = labels, colors = colors, autopct='%1.0f%%');\n",
        "plt.show()"
      ],
      "metadata": {
        "colab": {
          "base_uri": "https://localhost:8080/"
        },
        "id": "usyXS0uehNdD",
        "outputId": "48a9f85d-c076-4e08-9703-d254104f043c"
      },
      "execution_count": null,
      "outputs": [
        {
          "output_type": "display_data",
          "data": {
            "text/plain": [
              "<Figure size 864x864 with 1 Axes>"
            ],
            "image/png": "[encoded data removed]"
          },
          "metadata": {}
        }
      ]
    },
    {
      "cell_type": "code",
      "source": [
        "salary_promotion = df.groupby('salary')['promotion_last_5years'].sum()/df['promotion_last_5years'].sum()\n",
        "salary_promotion"
      ],
      "metadata": {
        "colab": {
          "base_uri": "https://localhost:8080/"
        },
        "id": "lmrk2ySpnT3u",
        "outputId": "79b167d0-9b5a-401a-ebc4-76b587f209cd"
      },
      "execution_count": null,
      "outputs": [
        {
          "output_type": "execute_result",
          "data": {
            "text/plain": [
              "salary\n",
              "high      0.216749\n",
              "low       0.187192\n",
              "medium    0.596059\n",
              "Name: promotion_last_5years, dtype: float64"
            ]
          },
          "metadata": {},
          "execution_count": 38
        }
      ]
    },
    {
      "cell_type": "code",
      "source": [
        "plt.figure(figsize=(12, 12))\n",
        "colors = sns.color_palette('pastel')[0:3]\n",
        "labels = salary_promotion.index\n",
        "plt.pie(salary_promotion, labels = labels, colors = colors, autopct='%1.0f%%');\n",
        "plt.show()"
      ],
      "metadata": {
        "colab": {
          "base_uri": "https://localhost:8080/"
        },
        "id": "NVw-n9xwpdLz",
        "outputId": "30d01d92-4b02-4d8f-f603-20c6b298806c"
      },
      "execution_count": null,
      "outputs": [
        {
          "output_type": "display_data",
          "data": {
            "text/plain": [
              "<Figure size 864x864 with 1 Axes>"
            ],
            "image/png": "[encoded data removed]"
          },
          "metadata": {}
        }
      ]
    },
    {
      "cell_type": "markdown",
      "source": [
        "## Machine Learning"
      ],
      "metadata": {
        "id": "-AVtUzofrCoA"
      }
    },
    {
      "cell_type": "code",
      "source": [
        "from sklearn.metrics import confusion_matrix\n",
        "\n",
        "def calcular_precision(TP, TN, FP, FN):\n",
        "    accuracy = (TP + TN) / (TP + TN + FP + FN)\n",
        "    accuracy = accuracy * 100\n",
        "    return accuracy\n",
        "\n",
        "def calcular_sensibilidad(TP, TN, FP, FN):\n",
        "    sensibilidad = TP / (TP + FN)\n",
        "    sensibilidad = sensibilidad * 100\n",
        "    return sensibilidad\n",
        "\n",
        "def calcular_especificidad(TP, TN, FP, FN):\n",
        "    especificidad = TN / (TN + FP)\n",
        "    especificidad = especificidad * 100\n",
        "    return especificidad\n",
        "\n",
        "def evaluar_modelo(y_test, y_pred):\n",
        "  matrix = confusion_matrix(y_test, y_pred)\n",
        "  (TN, FP, FN, TP) = matrix.ravel()\n",
        "\n",
        "  print(f\"Precisión: {calcular_precision(TP, TN, FP, FN)}\")\n",
        "  print(f\"Sensibilidad: {calcular_sensibilidad(TP, TN, FP, FN)}\")\n",
        "  print(f\"Especificidad: {calcular_especificidad(TP, TN, FP, FN)}\")"
      ],
      "metadata": {
        "id": "_noDqvOUHlrY"
      },
      "execution_count": null,
      "outputs": []
    },
    {
      "cell_type": "code",
      "source": [
        "from sklearn.metrics import confusion_matrix"
      ],
      "metadata": {
        "id": "Y8lE84NlnfGB"
      },
      "execution_count": null,
      "outputs": []
    },
    {
      "cell_type": "code",
      "source": [
        "from sklearn import preprocessing\n",
        "le = preprocessing.LabelEncoder()\n",
        "df_processed = df.copy()"
      ],
      "metadata": {
        "id": "-pgM0kvSrLy3"
      },
      "execution_count": null,
      "outputs": []
    },
    {
      "cell_type": "code",
      "source": [
        "df_processed['salary'] = le.fit_transform(df_processed['salary'])\n",
        "df_processed['department'] = le.fit_transform(df_processed['department'])\n",
        "df_processed.head()"
      ],
      "metadata": {
        "colab": {
          "base_uri": "https://localhost:8080/",
          "height": 206
        },
        "id": "Hr1_Zf2cr32R",
        "outputId": "570d08ea-e5c3-4e10-f3c1-19e21889afc6"
      },
      "execution_count": null,
      "outputs": [
        {
          "output_type": "execute_result",
          "data": {
            "text/plain": [
              "   satisfaction_level  performance  number_project  average_montly_hours  \\\n",
              "0                0.38         0.53               2                   157   \n",
              "1                0.80         0.86               5                   262   \n",
              "2                0.11         0.88               7                   272   \n",
              "3                0.72         0.87               5                   223   \n",
              "4                0.37         0.52               2                   159   \n",
              "\n",
              "   time_spend_company  number_work_accidents  resign  promotion_last_5years  \\\n",
              "0                   3                      0       1                      0   \n",
              "1                   6                      0       1                      0   \n",
              "2                   4                      0       1                      0   \n",
              "3                   5                      0       1                      0   \n",
              "4                   3                      0       1                      0   \n",
              "\n",
              "   department  salary  \n",
              "0           7       1  \n",
              "1           7       2  \n",
              "2           7       2  \n",
              "3           7       1  \n",
              "4           7       1  "
            ],
            "text/html": [
              "\n",
              "  <div id=\"df-53202b98-8d79-46e8-80e3-10e7f92babff\">\n",
              "    <div class=\"colab-df-container\">\n",
              "      <div>\n",
              "<style scoped>\n",
              "    .dataframe tbody tr th:only-of-type {\n",
              "        vertical-align: middle;\n",
              "    }\n",
              "\n",
              "    .dataframe tbody tr th {\n",
              "        vertical-align: top;\n",
              "    }\n",
              "\n",
              "    .dataframe thead th {\n",
              "        text-align: right;\n",
              "    }\n",
              "</style>\n",
              "<table border=\"1\" class=\"dataframe\">\n",
              "  <thead>\n",
              "    <tr style=\"text-align: right;\">\n",
              "      <th></th>\n",
              "      <th>satisfaction_level</th>\n",
              "      <th>performance</th>\n",
              "      <th>number_project</th>\n",
              "      <th>average_montly_hours</th>\n",
              "      <th>time_spend_company</th>\n",
              "      <th>number_work_accidents</th>\n",
              "      <th>resign</th>\n",
              "      <th>promotion_last_5years</th>\n",
              "      <th>department</th>\n",
              "      <th>salary</th>\n",
              "    </tr>\n",
              "  </thead>\n",
              "  <tbody>\n",
              "    <tr>\n",
              "      <th>0</th>\n",
              "      <td>0.38</td>\n",
              "      <td>0.53</td>\n",
              "      <td>2</td>\n",
              "      <td>157</td>\n",
              "      <td>3</td>\n",
              "      <td>0</td>\n",
              "      <td>1</td>\n",
              "      <td>0</td>\n",
              "      <td>7</td>\n",
              "      <td>1</td>\n",
              "    </tr>\n",
              "    <tr>\n",
              "      <th>1</th>\n",
              "      <td>0.80</td>\n",
              "      <td>0.86</td>\n",
              "      <td>5</td>\n",
              "      <td>262</td>\n",
              "      <td>6</td>\n",
              "      <td>0</td>\n",
              "      <td>1</td>\n",
              "      <td>0</td>\n",
              "      <td>7</td>\n",
              "      <td>2</td>\n",
              "    </tr>\n",
              "    <tr>\n",
              "      <th>2</th>\n",
              "      <td>0.11</td>\n",
              "      <td>0.88</td>\n",
              "      <td>7</td>\n",
              "      <td>272</td>\n",
              "      <td>4</td>\n",
              "      <td>0</td>\n",
              "      <td>1</td>\n",
              "      <td>0</td>\n",
              "      <td>7</td>\n",
              "      <td>2</td>\n",
              "    </tr>\n",
              "    <tr>\n",
              "      <th>3</th>\n",
              "      <td>0.72</td>\n",
              "      <td>0.87</td>\n",
              "      <td>5</td>\n",
              "      <td>223</td>\n",
              "      <td>5</td>\n",
              "      <td>0</td>\n",
              "      <td>1</td>\n",
              "      <td>0</td>\n",
              "      <td>7</td>\n",
              "      <td>1</td>\n",
              "    </tr>\n",
              "    <tr>\n",
              "      <th>4</th>\n",
              "      <td>0.37</td>\n",
              "      <td>0.52</td>\n",
              "      <td>2</td>\n",
              "      <td>159</td>\n",
              "      <td>3</td>\n",
              "      <td>0</td>\n",
              "      <td>1</td>\n",
              "      <td>0</td>\n",
              "      <td>7</td>\n",
              "      <td>1</td>\n",
              "    </tr>\n",
              "  </tbody>\n",
              "</table>\n",
              "</div>\n",
              "      <button class=\"colab-df-convert\" onclick=\"convertToInteractive('df-53202b98-8d79-46e8-80e3-10e7f92babff')\"\n",
              "              title=\"Convert this dataframe to an interactive table.\"\n",
              "              style=\"display:none;\">\n",
              "        \n",
              "  <svg xmlns=\"http://www.w3.org/2000/svg\" height=\"24px\"viewBox=\"0 0 24 24\"\n",
              "       width=\"24px\">\n",
              "    <path d=\"M0 0h24v24H0V0z\" fill=\"none\"/>\n",
              "    <path d=\"M18.56 5.44l.94 2.06.94-2.06 2.06-.94-2.06-.94-.94-2.06-.94 2.06-2.06.94zm-11 1L8.5 8.5l.94-2.06 2.06-.94-2.06-.94L8.5 2.5l-.94 2.06-2.06.94zm10 10l.94 2.06.94-2.06 2.06-.94-2.06-.94-.94-2.06-.94 2.06-2.06.94z\"/><path d=\"M17.41 7.96l-1.37-1.37c-.4-.4-.92-.59-1.43-.59-.52 0-1.04.2-1.43.59L10.3 9.45l-7.72 7.72c-.78.78-.78 2.05 0 2.83L4 21.41c.39.39.9.59 1.41.59.51 0 1.02-.2 1.41-.59l7.78-7.78 2.81-2.81c.8-.78.8-2.07 0-2.86zM5.41 20L4 18.59l7.72-7.72 1.47 1.35L5.41 20z\"/>\n",
              "  </svg>\n",
              "      </button>\n",
              "      \n",
              "  <style>\n",
              "    .colab-df-container {\n",
              "      display:flex;\n",
              "      flex-wrap:wrap;\n",
              "      gap: 12px;\n",
              "    }\n",
              "\n",
              "    .colab-df-convert {\n",
              "      background-color: #E8F0FE;\n",
              "      border: none;\n",
              "      border-radius: 50%;\n",
              "      cursor: pointer;\n",
              "      display: none;\n",
              "      fill: #1967D2;\n",
              "      height: 32px;\n",
              "      padding: 0 0 0 0;\n",
              "      width: 32px;\n",
              "    }\n",
              "\n",
              "    .colab-df-convert:hover {\n",
              "      background-color: #E2EBFA;\n",
              "      box-shadow: 0px 1px 2px rgba(60, 64, 67, 0.3), 0px 1px 3px 1px rgba(60, 64, 67, 0.15);\n",
              "      fill: #174EA6;\n",
              "    }\n",
              "\n",
              "    [theme=dark] .colab-df-convert {\n",
              "      background-color: #3B4455;\n",
              "      fill: #D2E3FC;\n",
              "    }\n",
              "\n",
              "    [theme=dark] .colab-df-convert:hover {\n",
              "      background-color: #434B5C;\n",
              "      box-shadow: 0px 1px 3px 1px rgba(0, 0, 0, 0.15);\n",
              "      filter: drop-shadow(0px 1px 2px rgba(0, 0, 0, 0.3));\n",
              "      fill: #FFFFFF;\n",
              "    }\n",
              "  </style>\n",
              "\n",
              "      <script>\n",
              "        const buttonEl =\n",
              "          document.querySelector('#df-53202b98-8d79-46e8-80e3-10e7f92babff button.colab-df-convert');\n",
              "        buttonEl.style.display =\n",
              "          google.colab.kernel.accessAllowed ? 'block' : 'none';\n",
              "\n",
              "        async function convertToInteractive(key) {\n",
              "          const element = document.querySelector('#df-53202b98-8d79-46e8-80e3-10e7f92babff');\n",
              "          const dataTable =\n",
              "            await google.colab.kernel.invokeFunction('convertToInteractive',\n",
              "                                                     [key], {});\n",
              "          if (!dataTable) return;\n",
              "\n",
              "          const docLinkHtml = 'Like what you see? Visit the ' +\n",
              "            '<a target=\"_blank\" href=https://colab.research.google.com/notebooks/data_table.ipynb>data table notebook</a>'\n",
              "            + ' to learn more about interactive tables.';\n",
              "          element.innerHTML = '';\n",
              "          dataTable['output_type'] = 'display_data';\n",
              "          await google.colab.output.renderOutput(dataTable, element);\n",
              "          const docLink = document.createElement('div');\n",
              "          docLink.innerHTML = docLinkHtml;\n",
              "          element.appendChild(docLink);\n",
              "        }\n",
              "      </script>\n",
              "    </div>\n",
              "  </div>\n",
              "  "
            ]
          },
          "metadata": {},
          "execution_count": 43
        }
      ]
    },
    {
      "cell_type": "code",
      "source": [
        "df['resign'].value_counts()"
      ],
      "metadata": {
        "colab": {
          "base_uri": "https://localhost:8080/"
        },
        "id": "jrOPdTUOb8ps",
        "outputId": "ea16a3ac-cd96-4d1b-9e5d-4d23c3212023"
      },
      "execution_count": null,
      "outputs": [
        {
          "output_type": "execute_result",
          "data": {
            "text/plain": [
              "0    10000\n",
              "1     1991\n",
              "Name: resign, dtype: int64"
            ]
          },
          "metadata": {},
          "execution_count": 44
        }
      ]
    },
    {
      "cell_type": "code",
      "source": [
        "from sklearn.model_selection import train_test_split"
      ],
      "metadata": {
        "id": "HZw5FKnsswI2"
      },
      "execution_count": null,
      "outputs": []
    },
    {
      "cell_type": "code",
      "source": [
        "X = df_processed.drop(columns='resign')\n",
        "y = df_processed['resign']"
      ],
      "metadata": {
        "id": "o8xBSReCtFZ3"
      },
      "execution_count": null,
      "outputs": []
    },
    {
      "cell_type": "code",
      "source": [
        "X_train, X_test, y_train, y_test = train_test_split(X, y, test_size=0.3)"
      ],
      "metadata": {
        "id": "6Ck2k6fls4Wm"
      },
      "execution_count": null,
      "outputs": []
    },
    {
      "cell_type": "code",
      "source": [
        "from sklearn.ensemble import RandomForestClassifier"
      ],
      "metadata": {
        "id": "4zLakslztlNW"
      },
      "execution_count": null,
      "outputs": []
    },
    {
      "cell_type": "code",
      "source": [
        "random_forest = RandomForestClassifier(n_estimators=200)\n",
        "random_forest.fit(X_train, y_train)"
      ],
      "metadata": {
        "colab": {
          "base_uri": "https://localhost:8080/"
        },
        "outputId": "bdbb0ef7-cdb2-4b08-945f-e9c0811a360e",
        "id": "SqbEy6lztlNX"
      },
      "execution_count": null,
      "outputs": [
        {
          "output_type": "execute_result",
          "data": {
            "text/plain": [
              "RandomForestClassifier(n_estimators=200)"
            ]
          },
          "metadata": {},
          "execution_count": 49
        }
      ]
    },
    {
      "cell_type": "code",
      "source": [
        "y_pred = random_forest.predict(X_test)"
      ],
      "metadata": {
        "id": "8vsg-lm7tlNY"
      },
      "execution_count": null,
      "outputs": []
    },
    {
      "cell_type": "code",
      "source": [
        "eval_rf = evaluar_modelo(y_test, y_pred)\n",
        "eval_rf"
      ],
      "metadata": {
        "colab": {
          "base_uri": "https://localhost:8080/"
        },
        "id": "7ULnQjKhtwIS",
        "outputId": "6ad0fcef-dbac-4b1d-f61c-60625769900c"
      },
      "execution_count": null,
      "outputs": [
        {
          "output_type": "stream",
          "name": "stdout",
          "text": [
            "Precisión: 98.49916620344636\n",
            "Sensibilidad: 92.6829268292683\n",
            "Especificidad: 99.69829031176668\n"
          ]
        }
      ]
    },
    {
      "cell_type": "code",
      "source": [
        "sns.heatmap(confusion_matrix(y_test, y_pred), annot=True, fmt=\"d\")"
      ],
      "metadata": {
        "colab": {
          "base_uri": "https://localhost:8080/",
          "height": 286
        },
        "outputId": "d75aeaf3-74e8-4f9a-a194-9c0077fa5e2b",
        "id": "8Hv-Zfo-nfGC"
      },
      "execution_count": null,
      "outputs": [
        {
          "output_type": "execute_result",
          "data": {
            "text/plain": [
              "<matplotlib.axes._subplots.AxesSubplot at 0x7f4842873310>"
            ]
          },
          "metadata": {},
          "execution_count": 52
        },
        {
          "output_type": "display_data",
          "data": {
            "text/plain": [
              "<Figure size 432x288 with 2 Axes>"
            ],
            "image/png": "[encoded data removed]"
          },
          "metadata": {}
        }
      ]
    },
    {
      "cell_type": "code",
      "source": [
        "from sklearn.svm import SVC"
      ],
      "metadata": {
        "id": "ZNK5P3dEvfjn"
      },
      "execution_count": null,
      "outputs": []
    },
    {
      "cell_type": "code",
      "source": [
        "svc = SVC(kernel=\"rbf\")\n",
        "svc.fit(X_train, y_train)\n",
        "y_pred = svc.predict(X_test)"
      ],
      "metadata": {
        "id": "vbeCtYWGvgbu"
      },
      "execution_count": null,
      "outputs": []
    },
    {
      "cell_type": "code",
      "source": [
        "evaluar_modelo(y_test, y_pred)"
      ],
      "metadata": {
        "colab": {
          "base_uri": "https://localhost:8080/"
        },
        "id": "2TXcF_4tvkSe",
        "outputId": "7bad575d-292b-44e1-999e-37ad81dd25a1"
      },
      "execution_count": null,
      "outputs": [
        {
          "output_type": "stream",
          "name": "stdout",
          "text": [
            "Precisión: 82.90717065036132\n",
            "Sensibilidad: 0.0\n",
            "Especificidad: 100.0\n"
          ]
        }
      ]
    },
    {
      "cell_type": "code",
      "source": [
        "sns.heatmap(confusion_matrix(y_test, y_pred), annot=True, fmt=\"d\")"
      ],
      "metadata": {
        "colab": {
          "base_uri": "https://localhost:8080/",
          "height": 286
        },
        "id": "GfGReQovvN8h",
        "outputId": "8093bcf6-4329-4edb-9b73-0816e3d6bd7d"
      },
      "execution_count": null,
      "outputs": [
        {
          "output_type": "execute_result",
          "data": {
            "text/plain": [
              "<matplotlib.axes._subplots.AxesSubplot at 0x7f483dab6950>"
            ]
          },
          "metadata": {},
          "execution_count": 56
        },
        {
          "output_type": "display_data",
          "data": {
            "text/plain": [
              "<Figure size 432x288 with 2 Axes>"
            ],
            "image/png": "[encoded data removed]"
          },
          "metadata": {}
        }
      ]
    },
    {
      "cell_type": "code",
      "source": [
        "from sklearn.naive_bayes import GaussianNB\n",
        "from sklearn.naive_bayes import BernoulliNB\n",
        "from sklearn.naive_bayes import MultinomialNB\n",
        "from sklearn.naive_bayes import CategoricalNB"
      ],
      "metadata": {
        "id": "WmVkc42PQzzq"
      },
      "execution_count": null,
      "outputs": []
    },
    {
      "cell_type": "code",
      "source": [
        "gaussian_nb = GaussianNB()\n",
        "gaussian_nb.fit(X_train, y_train)\n",
        "y_pred = gaussian_nb.predict(X_test)"
      ],
      "metadata": {
        "id": "xw3Uy0TqQ5-6"
      },
      "execution_count": null,
      "outputs": []
    },
    {
      "cell_type": "code",
      "source": [
        "y_pred = gaussian_nb.predict(X_test)"
      ],
      "metadata": {
        "id": "JOqSdLExQ9OO"
      },
      "execution_count": null,
      "outputs": []
    },
    {
      "cell_type": "code",
      "source": [
        "evaluar_modelo(y_test, y_pred)"
      ],
      "metadata": {
        "colab": {
          "base_uri": "https://localhost:8080/"
        },
        "id": "IsfHbFe6RDTK",
        "outputId": "a44d4795-62a0-40f7-ba0f-308e7d7cae40"
      },
      "execution_count": null,
      "outputs": [
        {
          "output_type": "stream",
          "name": "stdout",
          "text": [
            "Precisión: 85.10283490828238\n",
            "Sensibilidad: 68.29268292682927\n",
            "Especificidad: 88.56855514582634\n"
          ]
        }
      ]
    },
    {
      "cell_type": "code",
      "source": [
        "sns.heatmap(confusion_matrix(y_test, y_pred), annot=True, fmt=\"d\")"
      ],
      "metadata": {
        "colab": {
          "base_uri": "https://localhost:8080/",
          "height": 286
        },
        "outputId": "41e5c96e-bffb-43d2-c960-10dd7a8fad38",
        "id": "WOL__HxFn47m"
      },
      "execution_count": null,
      "outputs": [
        {
          "output_type": "execute_result",
          "data": {
            "text/plain": [
              "<matplotlib.axes._subplots.AxesSubplot at 0x7f483d9eff90>"
            ]
          },
          "metadata": {},
          "execution_count": 61
        },
        {
          "output_type": "display_data",
          "data": {
            "text/plain": [
              "<Figure size 432x288 with 2 Axes>"
            ],
            "image/png": "[encoded data removed]"
          },
          "metadata": {}
        }
      ]
    },
    {
      "cell_type": "code",
      "source": [
        "bernoulli_nb = BernoulliNB()\n",
        "bernoulli_nb.fit(X_train, y_train)\n",
        "y_pred = bernoulli_nb.predict(X_test)"
      ],
      "metadata": {
        "id": "xyliUkSSRTl6"
      },
      "execution_count": null,
      "outputs": []
    },
    {
      "cell_type": "code",
      "source": [
        "y_pred = bernoulli_nb.predict(X_test)"
      ],
      "metadata": {
        "id": "YlR24GJ1Y2EG"
      },
      "execution_count": null,
      "outputs": []
    },
    {
      "cell_type": "code",
      "source": [
        "evaluar_modelo(y_test, y_pred)"
      ],
      "metadata": {
        "colab": {
          "base_uri": "https://localhost:8080/"
        },
        "id": "So9G6TnoaDON",
        "outputId": "97a2889d-5bbb-42cb-9cfb-d2d882a0fca5"
      },
      "execution_count": null,
      "outputs": [
        {
          "output_type": "stream",
          "name": "stdout",
          "text": [
            "Precisión: 82.90717065036132\n",
            "Sensibilidad: 0.0\n",
            "Especificidad: 100.0\n"
          ]
        }
      ]
    },
    {
      "cell_type": "code",
      "source": [
        "sns.heatmap(confusion_matrix(y_test, y_pred), annot=True, fmt=\"d\")"
      ],
      "metadata": {
        "colab": {
          "base_uri": "https://localhost:8080/",
          "height": 286
        },
        "id": "vH8w5sCzvSOy",
        "outputId": "935aa3c6-8d6c-4ace-f959-d954fce56ca7"
      },
      "execution_count": null,
      "outputs": [
        {
          "output_type": "execute_result",
          "data": {
            "text/plain": [
              "<matplotlib.axes._subplots.AxesSubplot at 0x7f483d99dad0>"
            ]
          },
          "metadata": {},
          "execution_count": 65
        },
        {
          "output_type": "display_data",
          "data": {
            "text/plain": [
              "<Figure size 432x288 with 2 Axes>"
            ],
            "image/png": "[encoded data removed]"
          },
          "metadata": {}
        }
      ]
    },
    {
      "cell_type": "code",
      "source": [
        "multinomial_nb = MultinomialNB()\n",
        "multinomial_nb.fit(X_train, y_train)\n",
        "y_pred = multinomial_nb.predict(X_test)"
      ],
      "metadata": {
        "id": "i4iXw1e-ajy8"
      },
      "execution_count": null,
      "outputs": []
    },
    {
      "cell_type": "code",
      "source": [
        "y_pred = multinomial_nb.predict(X_test)"
      ],
      "metadata": {
        "id": "uq6OWQieay22"
      },
      "execution_count": null,
      "outputs": []
    },
    {
      "cell_type": "code",
      "source": [
        "evaluar_modelo(y_test, y_pred)"
      ],
      "metadata": {
        "colab": {
          "base_uri": "https://localhost:8080/"
        },
        "id": "EpMQT3Spa5sJ",
        "outputId": "ae8ed3cb-07fc-4091-aaec-730bc4a0da74"
      },
      "execution_count": null,
      "outputs": [
        {
          "output_type": "stream",
          "name": "stdout",
          "text": [
            "Precisión: 82.90717065036132\n",
            "Sensibilidad: 0.0\n",
            "Especificidad: 100.0\n"
          ]
        }
      ]
    },
    {
      "cell_type": "code",
      "source": [
        "sns.heatmap(confusion_matrix(y_test, y_pred), annot=True, fmt=\"d\")"
      ],
      "metadata": {
        "colab": {
          "base_uri": "https://localhost:8080/",
          "height": 286
        },
        "outputId": "98167e5e-99b9-42c3-da2c-dc2b30ea6736",
        "id": "pXFxX2yVn9zV"
      },
      "execution_count": null,
      "outputs": [
        {
          "output_type": "execute_result",
          "data": {
            "text/plain": [
              "<matplotlib.axes._subplots.AxesSubplot at 0x7f483d97ec50>"
            ]
          },
          "metadata": {},
          "execution_count": 69
        },
        {
          "output_type": "display_data",
          "data": {
            "text/plain": [
              "<Figure size 432x288 with 2 Axes>"
            ],
            "image/png": "[encoded data removed]"
          },
          "metadata": {}
        }
      ]
    },
    {
      "cell_type": "code",
      "source": [
        "categorical_nb = CategoricalNB()\n",
        "categorical_nb.fit(X_train, y_train)\n",
        "y_pred = categorical_nb.predict(X_test)"
      ],
      "metadata": {
        "id": "BvFr8VLRdBQj"
      },
      "execution_count": null,
      "outputs": []
    },
    {
      "cell_type": "code",
      "source": [
        "y_pred = categorical_nb.predict(X_test)"
      ],
      "metadata": {
        "id": "-i8zaBU9dbG5"
      },
      "execution_count": null,
      "outputs": []
    },
    {
      "cell_type": "code",
      "source": [
        "evaluar_modelo(y_test, y_pred)"
      ],
      "metadata": {
        "colab": {
          "base_uri": "https://localhost:8080/"
        },
        "id": "yagPTE1zdfVa",
        "outputId": "93c9c501-7440-4463-b716-3a36f0e8a861"
      },
      "execution_count": null,
      "outputs": [
        {
          "output_type": "stream",
          "name": "stdout",
          "text": [
            "Precisión: 92.16231239577543\n",
            "Sensibilidad: 71.869918699187\n",
            "Especificidad: 96.34596044250753\n"
          ]
        }
      ]
    },
    {
      "cell_type": "code",
      "source": [
        "sns.heatmap(confusion_matrix(y_test, y_pred), annot=True, fmt=\"d\")"
      ],
      "metadata": {
        "colab": {
          "base_uri": "https://localhost:8080/",
          "height": 286
        },
        "outputId": "e9ed55a0-89a3-42d2-9cde-c8bfbab5e307",
        "id": "CJvTk_bln_oN"
      },
      "execution_count": null,
      "outputs": [
        {
          "output_type": "execute_result",
          "data": {
            "text/plain": [
              "<matplotlib.axes._subplots.AxesSubplot at 0x7f483d91f3d0>"
            ]
          },
          "metadata": {},
          "execution_count": 73
        },
        {
          "output_type": "display_data",
          "data": {
            "text/plain": [
              "<Figure size 432x288 with 2 Axes>"
            ],
            "image/png": "[encoded data removed]"
          },
          "metadata": {}
        }
      ]
    },
    {
      "cell_type": "code",
      "source": [
        "%tensorflow_version 2.x\n",
        "import tensorflow as tf"
      ],
      "metadata": {
        "id": "E5505HTBwVmY"
      },
      "execution_count": null,
      "outputs": []
    },
    {
      "cell_type": "code",
      "source": [
        "l0 = tf.keras.layers.Dense(units=32, input_shape=([X.shape[1]]), activation=\"sigmoid\")\n",
        "l1 = tf.keras.layers.Dense(units=64, activation=\"relu\")\n",
        "l2 = tf.keras.layers.Dense(units=16, activation=\"relu\")\n",
        "l3 = tf.keras.layers.Dense(units=8, activation=\"relu\")\n",
        "l4 = tf.keras.layers.Dense(units=1)"
      ],
      "metadata": {
        "id": "cLvKE2qNw1ff"
      },
      "execution_count": null,
      "outputs": []
    },
    {
      "cell_type": "code",
      "source": [
        "model = tf.keras.Sequential([l0, l1, l2, l3, l4])"
      ],
      "metadata": {
        "id": "gxyOzS4yw8yE"
      },
      "execution_count": null,
      "outputs": []
    },
    {
      "cell_type": "code",
      "source": [
        "model.compile(loss=\"mean_squared_error\", optimizer=tf.keras.optimizers.Adam(0.001), metrics = ['accuracy'])"
      ],
      "metadata": {
        "id": "w0W-xau6w8yG"
      },
      "execution_count": null,
      "outputs": []
    },
    {
      "cell_type": "code",
      "source": [
        "history = model.fit(X_train, y_train, epochs=100, verbose=True, validation_split=0.1)"
      ],
      "metadata": {
        "colab": {
          "base_uri": "https://localhost:8080/"
        },
        "outputId": "46e57476-0ef9-46c8-98ba-cfc095f262e8",
        "id": "j0bq6idNw8yG"
      },
      "execution_count": null,
      "outputs": [
        {
          "output_type": "stream",
          "name": "stdout",
          "text": [
            "Epoch 1/100\n",
            "237/237 [==============================] - 1s 3ms/step - loss: 0.1543 - accuracy: 0.8364 - val_loss: 0.1375 - val_accuracy: 0.8333\n",
            "Epoch 2/100\n",
            "237/237 [==============================] - 1s 2ms/step - loss: 0.1338 - accuracy: 0.8364 - val_loss: 0.1358 - val_accuracy: 0.8333\n",
            "Epoch 3/100\n",
            "237/237 [==============================] - 1s 2ms/step - loss: 0.1266 - accuracy: 0.8364 - val_loss: 0.1211 - val_accuracy: 0.8333\n",
            "Epoch 4/100\n",
            "237/237 [==============================] - 1s 2ms/step - loss: 0.1195 - accuracy: 0.8387 - val_loss: 0.1118 - val_accuracy: 0.8381\n",
            "Epoch 5/100\n",
            "237/237 [==============================] - 1s 2ms/step - loss: 0.1082 - accuracy: 0.8513 - val_loss: 0.0993 - val_accuracy: 0.8583\n",
            "Epoch 6/100\n",
            "237/237 [==============================] - 1s 2ms/step - loss: 0.0955 - accuracy: 0.8597 - val_loss: 0.0891 - val_accuracy: 0.8655\n",
            "Epoch 7/100\n",
            "237/237 [==============================] - 1s 2ms/step - loss: 0.0867 - accuracy: 0.8736 - val_loss: 0.1064 - val_accuracy: 0.8548\n",
            "Epoch 8/100\n",
            "237/237 [==============================] - 1s 2ms/step - loss: 0.0848 - accuracy: 0.8750 - val_loss: 0.0931 - val_accuracy: 0.8536\n",
            "Epoch 9/100\n",
            "237/237 [==============================] - 1s 2ms/step - loss: 0.1169 - accuracy: 0.8365 - val_loss: 0.0998 - val_accuracy: 0.8333\n",
            "Epoch 10/100\n",
            "237/237 [==============================] - 1s 2ms/step - loss: 0.0955 - accuracy: 0.8610 - val_loss: 0.0934 - val_accuracy: 0.8536\n",
            "Epoch 11/100\n",
            "237/237 [==============================] - 1s 2ms/step - loss: 0.0900 - accuracy: 0.8816 - val_loss: 0.1023 - val_accuracy: 0.8929\n",
            "Epoch 12/100\n",
            "237/237 [==============================] - 1s 2ms/step - loss: 0.0889 - accuracy: 0.8818 - val_loss: 0.0916 - val_accuracy: 0.8464\n",
            "Epoch 13/100\n",
            "237/237 [==============================] - 1s 2ms/step - loss: 0.0867 - accuracy: 0.8883 - val_loss: 0.0954 - val_accuracy: 0.8560\n",
            "Epoch 14/100\n",
            "237/237 [==============================] - 1s 2ms/step - loss: 0.0844 - accuracy: 0.8942 - val_loss: 0.0971 - val_accuracy: 0.8940\n",
            "Epoch 15/100\n",
            "237/237 [==============================] - 1s 2ms/step - loss: 0.0902 - accuracy: 0.8741 - val_loss: 0.0877 - val_accuracy: 0.8869\n",
            "Epoch 16/100\n",
            "237/237 [==============================] - 1s 2ms/step - loss: 0.0818 - accuracy: 0.8979 - val_loss: 0.0833 - val_accuracy: 0.8917\n",
            "Epoch 17/100\n",
            "237/237 [==============================] - 0s 2ms/step - loss: 0.0808 - accuracy: 0.9014 - val_loss: 0.0822 - val_accuracy: 0.8881\n",
            "Epoch 18/100\n",
            "237/237 [==============================] - 1s 2ms/step - loss: 0.0804 - accuracy: 0.8957 - val_loss: 0.1139 - val_accuracy: 0.8774\n",
            "Epoch 19/100\n",
            "237/237 [==============================] - 0s 2ms/step - loss: 0.0754 - accuracy: 0.9044 - val_loss: 0.0808 - val_accuracy: 0.8821\n",
            "Epoch 20/100\n",
            "237/237 [==============================] - 1s 2ms/step - loss: 0.0723 - accuracy: 0.9055 - val_loss: 0.0723 - val_accuracy: 0.8988\n",
            "Epoch 21/100\n",
            "237/237 [==============================] - 1s 2ms/step - loss: 0.0684 - accuracy: 0.9084 - val_loss: 0.0704 - val_accuracy: 0.9012\n",
            "Epoch 22/100\n",
            "237/237 [==============================] - 1s 2ms/step - loss: 0.0667 - accuracy: 0.9141 - val_loss: 0.0706 - val_accuracy: 0.9071\n",
            "Epoch 23/100\n",
            "237/237 [==============================] - 1s 2ms/step - loss: 0.0619 - accuracy: 0.9203 - val_loss: 0.0664 - val_accuracy: 0.9155\n",
            "Epoch 24/100\n",
            "237/237 [==============================] - 1s 2ms/step - loss: 0.0600 - accuracy: 0.9199 - val_loss: 0.0765 - val_accuracy: 0.8988\n",
            "Epoch 25/100\n",
            "237/237 [==============================] - 1s 2ms/step - loss: 0.0608 - accuracy: 0.9237 - val_loss: 0.0657 - val_accuracy: 0.9071\n",
            "Epoch 26/100\n",
            "237/237 [==============================] - 1s 2ms/step - loss: 0.0553 - accuracy: 0.9306 - val_loss: 0.0689 - val_accuracy: 0.9083\n",
            "Epoch 27/100\n",
            "237/237 [==============================] - 1s 2ms/step - loss: 0.0539 - accuracy: 0.9302 - val_loss: 0.0732 - val_accuracy: 0.8988\n",
            "Epoch 28/100\n",
            "237/237 [==============================] - 1s 2ms/step - loss: 0.0534 - accuracy: 0.9300 - val_loss: 0.0650 - val_accuracy: 0.9310\n",
            "Epoch 29/100\n",
            "237/237 [==============================] - 1s 2ms/step - loss: 0.0538 - accuracy: 0.9296 - val_loss: 0.0542 - val_accuracy: 0.9357\n",
            "Epoch 30/100\n",
            "237/237 [==============================] - 1s 2ms/step - loss: 0.0519 - accuracy: 0.9325 - val_loss: 0.0502 - val_accuracy: 0.9357\n",
            "Epoch 31/100\n",
            "237/237 [==============================] - 1s 2ms/step - loss: 0.0515 - accuracy: 0.9350 - val_loss: 0.0525 - val_accuracy: 0.9333\n",
            "Epoch 32/100\n",
            "237/237 [==============================] - 1s 2ms/step - loss: 0.0514 - accuracy: 0.9346 - val_loss: 0.0594 - val_accuracy: 0.9167\n",
            "Epoch 33/100\n",
            "237/237 [==============================] - 1s 2ms/step - loss: 0.0514 - accuracy: 0.9343 - val_loss: 0.0530 - val_accuracy: 0.9333\n",
            "Epoch 34/100\n",
            "237/237 [==============================] - 1s 2ms/step - loss: 0.0503 - accuracy: 0.9331 - val_loss: 0.0534 - val_accuracy: 0.9345\n",
            "Epoch 35/100\n",
            "237/237 [==============================] - 1s 2ms/step - loss: 0.0509 - accuracy: 0.9341 - val_loss: 0.0652 - val_accuracy: 0.9119\n",
            "Epoch 36/100\n",
            "237/237 [==============================] - 1s 2ms/step - loss: 0.0798 - accuracy: 0.8909 - val_loss: 0.0675 - val_accuracy: 0.9095\n",
            "Epoch 37/100\n",
            "237/237 [==============================] - 1s 2ms/step - loss: 0.0673 - accuracy: 0.9076 - val_loss: 0.0667 - val_accuracy: 0.9119\n",
            "Epoch 38/100\n",
            "237/237 [==============================] - 1s 2ms/step - loss: 0.0640 - accuracy: 0.9142 - val_loss: 0.0643 - val_accuracy: 0.9143\n",
            "Epoch 39/100\n",
            "237/237 [==============================] - 1s 2ms/step - loss: 0.0619 - accuracy: 0.9184 - val_loss: 0.0686 - val_accuracy: 0.9048\n",
            "Epoch 40/100\n",
            "237/237 [==============================] - 1s 2ms/step - loss: 0.0624 - accuracy: 0.9178 - val_loss: 0.0667 - val_accuracy: 0.9048\n",
            "Epoch 41/100\n",
            "237/237 [==============================] - 1s 2ms/step - loss: 0.0611 - accuracy: 0.9194 - val_loss: 0.0780 - val_accuracy: 0.8940\n",
            "Epoch 42/100\n",
            "237/237 [==============================] - 1s 2ms/step - loss: 0.0574 - accuracy: 0.9255 - val_loss: 0.0583 - val_accuracy: 0.9190\n",
            "Epoch 43/100\n",
            "237/237 [==============================] - 1s 2ms/step - loss: 0.0600 - accuracy: 0.9171 - val_loss: 0.0574 - val_accuracy: 0.9202\n",
            "Epoch 44/100\n",
            "237/237 [==============================] - 0s 2ms/step - loss: 0.0495 - accuracy: 0.9378 - val_loss: 0.0890 - val_accuracy: 0.8548\n",
            "Epoch 45/100\n",
            "237/237 [==============================] - 1s 2ms/step - loss: 0.0713 - accuracy: 0.9088 - val_loss: 0.0598 - val_accuracy: 0.9226\n",
            "Epoch 46/100\n",
            "237/237 [==============================] - 1s 2ms/step - loss: 0.0586 - accuracy: 0.9220 - val_loss: 0.0613 - val_accuracy: 0.9167\n",
            "Epoch 47/100\n",
            "237/237 [==============================] - 1s 2ms/step - loss: 0.0581 - accuracy: 0.9216 - val_loss: 0.0613 - val_accuracy: 0.9143\n",
            "Epoch 48/100\n",
            "237/237 [==============================] - 1s 2ms/step - loss: 0.0563 - accuracy: 0.9249 - val_loss: 0.0598 - val_accuracy: 0.9250\n",
            "Epoch 49/100\n",
            "237/237 [==============================] - 1s 2ms/step - loss: 0.0550 - accuracy: 0.9253 - val_loss: 0.0580 - val_accuracy: 0.9286\n",
            "Epoch 50/100\n",
            "237/237 [==============================] - 1s 2ms/step - loss: 0.0539 - accuracy: 0.9293 - val_loss: 0.0665 - val_accuracy: 0.9131\n",
            "Epoch 51/100\n",
            "237/237 [==============================] - 1s 2ms/step - loss: 0.0546 - accuracy: 0.9280 - val_loss: 0.0594 - val_accuracy: 0.9167\n",
            "Epoch 52/100\n",
            "237/237 [==============================] - 1s 2ms/step - loss: 0.0529 - accuracy: 0.9305 - val_loss: 0.0575 - val_accuracy: 0.9238\n",
            "Epoch 53/100\n",
            "237/237 [==============================] - 1s 2ms/step - loss: 0.0513 - accuracy: 0.9330 - val_loss: 0.0530 - val_accuracy: 0.9345\n",
            "Epoch 54/100\n",
            "237/237 [==============================] - 1s 2ms/step - loss: 0.0539 - accuracy: 0.9289 - val_loss: 0.0538 - val_accuracy: 0.9286\n",
            "Epoch 55/100\n",
            "237/237 [==============================] - 1s 2ms/step - loss: 0.0518 - accuracy: 0.9312 - val_loss: 0.0524 - val_accuracy: 0.9357\n",
            "Epoch 56/100\n",
            "237/237 [==============================] - 1s 2ms/step - loss: 0.0507 - accuracy: 0.9345 - val_loss: 0.0554 - val_accuracy: 0.9321\n",
            "Epoch 57/100\n",
            "237/237 [==============================] - 0s 2ms/step - loss: 0.0494 - accuracy: 0.9355 - val_loss: 0.0689 - val_accuracy: 0.9012\n",
            "Epoch 58/100\n",
            "237/237 [==============================] - 1s 2ms/step - loss: 0.0484 - accuracy: 0.9372 - val_loss: 0.0492 - val_accuracy: 0.9429\n",
            "Epoch 59/100\n",
            "237/237 [==============================] - 1s 2ms/step - loss: 0.0458 - accuracy: 0.9400 - val_loss: 0.0526 - val_accuracy: 0.9286\n",
            "Epoch 60/100\n",
            "237/237 [==============================] - 1s 2ms/step - loss: 0.0484 - accuracy: 0.9376 - val_loss: 0.0488 - val_accuracy: 0.9393\n",
            "Epoch 61/100\n",
            "237/237 [==============================] - 1s 2ms/step - loss: 0.0481 - accuracy: 0.9363 - val_loss: 0.0923 - val_accuracy: 0.8690\n",
            "Epoch 62/100\n",
            "237/237 [==============================] - 1s 2ms/step - loss: 0.0476 - accuracy: 0.9394 - val_loss: 0.0449 - val_accuracy: 0.9452\n",
            "Epoch 63/100\n",
            "237/237 [==============================] - 1s 2ms/step - loss: 0.0429 - accuracy: 0.9464 - val_loss: 0.0484 - val_accuracy: 0.9357\n",
            "Epoch 64/100\n",
            "237/237 [==============================] - 1s 2ms/step - loss: 0.0463 - accuracy: 0.9402 - val_loss: 0.0489 - val_accuracy: 0.9381\n",
            "Epoch 65/100\n",
            "237/237 [==============================] - 1s 2ms/step - loss: 0.0438 - accuracy: 0.9452 - val_loss: 0.0421 - val_accuracy: 0.9464\n",
            "Epoch 66/100\n",
            "237/237 [==============================] - 1s 2ms/step - loss: 0.0434 - accuracy: 0.9451 - val_loss: 0.0439 - val_accuracy: 0.9476\n",
            "Epoch 67/100\n",
            "237/237 [==============================] - 1s 2ms/step - loss: 0.0446 - accuracy: 0.9444 - val_loss: 0.0408 - val_accuracy: 0.9548\n",
            "Epoch 68/100\n",
            "237/237 [==============================] - 1s 2ms/step - loss: 0.0433 - accuracy: 0.9445 - val_loss: 0.0532 - val_accuracy: 0.9250\n",
            "Epoch 69/100\n",
            "237/237 [==============================] - 1s 2ms/step - loss: 0.0463 - accuracy: 0.9375 - val_loss: 0.0590 - val_accuracy: 0.9381\n",
            "Epoch 70/100\n",
            "237/237 [==============================] - 1s 2ms/step - loss: 0.0426 - accuracy: 0.9452 - val_loss: 0.0527 - val_accuracy: 0.9321\n",
            "Epoch 71/100\n",
            "237/237 [==============================] - 1s 2ms/step - loss: 0.0425 - accuracy: 0.9456 - val_loss: 0.0441 - val_accuracy: 0.9488\n",
            "Epoch 72/100\n",
            "237/237 [==============================] - 1s 2ms/step - loss: 0.0413 - accuracy: 0.9501 - val_loss: 0.0581 - val_accuracy: 0.9167\n",
            "Epoch 73/100\n",
            "237/237 [==============================] - 1s 2ms/step - loss: 0.0420 - accuracy: 0.9447 - val_loss: 0.0440 - val_accuracy: 0.9440\n",
            "Epoch 74/100\n",
            "237/237 [==============================] - 1s 2ms/step - loss: 0.0427 - accuracy: 0.9466 - val_loss: 0.0487 - val_accuracy: 0.9369\n",
            "Epoch 75/100\n",
            "237/237 [==============================] - 1s 2ms/step - loss: 0.0418 - accuracy: 0.9464 - val_loss: 0.0401 - val_accuracy: 0.9500\n",
            "Epoch 76/100\n",
            "237/237 [==============================] - 1s 2ms/step - loss: 0.0409 - accuracy: 0.9498 - val_loss: 0.0430 - val_accuracy: 0.9488\n",
            "Epoch 77/100\n",
            "237/237 [==============================] - 1s 2ms/step - loss: 0.0406 - accuracy: 0.9480 - val_loss: 0.0719 - val_accuracy: 0.9012\n",
            "Epoch 78/100\n",
            "237/237 [==============================] - 1s 2ms/step - loss: 0.0415 - accuracy: 0.9465 - val_loss: 0.0386 - val_accuracy: 0.9524\n",
            "Epoch 79/100\n",
            "237/237 [==============================] - 1s 2ms/step - loss: 0.0540 - accuracy: 0.9314 - val_loss: 0.0817 - val_accuracy: 0.8845\n",
            "Epoch 80/100\n",
            "237/237 [==============================] - 1s 2ms/step - loss: 0.0466 - accuracy: 0.9415 - val_loss: 0.0589 - val_accuracy: 0.9333\n",
            "Epoch 81/100\n",
            "237/237 [==============================] - 1s 2ms/step - loss: 0.0525 - accuracy: 0.9327 - val_loss: 0.0520 - val_accuracy: 0.9452\n",
            "Epoch 82/100\n",
            "237/237 [==============================] - 1s 2ms/step - loss: 0.0426 - accuracy: 0.9457 - val_loss: 0.0733 - val_accuracy: 0.9000\n",
            "Epoch 83/100\n",
            "237/237 [==============================] - 1s 2ms/step - loss: 0.0416 - accuracy: 0.9494 - val_loss: 0.0423 - val_accuracy: 0.9512\n",
            "Epoch 84/100\n",
            "237/237 [==============================] - 1s 2ms/step - loss: 0.0402 - accuracy: 0.9502 - val_loss: 0.0501 - val_accuracy: 0.9393\n",
            "Epoch 85/100\n",
            "237/237 [==============================] - 1s 2ms/step - loss: 0.0428 - accuracy: 0.9462 - val_loss: 0.0487 - val_accuracy: 0.9369\n",
            "Epoch 86/100\n",
            "237/237 [==============================] - 1s 2ms/step - loss: 0.0399 - accuracy: 0.9500 - val_loss: 0.0407 - val_accuracy: 0.9464\n",
            "Epoch 87/100\n",
            "237/237 [==============================] - 1s 2ms/step - loss: 0.0426 - accuracy: 0.9451 - val_loss: 0.0393 - val_accuracy: 0.9524\n",
            "Epoch 88/100\n",
            "237/237 [==============================] - 1s 2ms/step - loss: 0.0373 - accuracy: 0.9547 - val_loss: 0.0465 - val_accuracy: 0.9417\n",
            "Epoch 89/100\n",
            "237/237 [==============================] - 1s 2ms/step - loss: 0.0431 - accuracy: 0.9457 - val_loss: 0.0622 - val_accuracy: 0.9155\n",
            "Epoch 90/100\n",
            "237/237 [==============================] - 1s 2ms/step - loss: 0.0423 - accuracy: 0.9481 - val_loss: 0.0374 - val_accuracy: 0.9524\n",
            "Epoch 91/100\n",
            "237/237 [==============================] - 1s 2ms/step - loss: 0.0431 - accuracy: 0.9445 - val_loss: 0.0464 - val_accuracy: 0.9440\n",
            "Epoch 92/100\n",
            "237/237 [==============================] - 1s 2ms/step - loss: 0.0402 - accuracy: 0.9478 - val_loss: 0.0572 - val_accuracy: 0.9262\n",
            "Epoch 93/100\n",
            "237/237 [==============================] - 1s 2ms/step - loss: 0.0441 - accuracy: 0.9453 - val_loss: 0.0415 - val_accuracy: 0.9536\n",
            "Epoch 94/100\n",
            "237/237 [==============================] - 1s 2ms/step - loss: 0.0377 - accuracy: 0.9535 - val_loss: 0.0442 - val_accuracy: 0.9452\n",
            "Epoch 95/100\n",
            "237/237 [==============================] - 1s 2ms/step - loss: 0.0445 - accuracy: 0.9423 - val_loss: 0.0374 - val_accuracy: 0.9548\n",
            "Epoch 96/100\n",
            "237/237 [==============================] - 1s 2ms/step - loss: 0.0424 - accuracy: 0.9458 - val_loss: 0.0377 - val_accuracy: 0.9571\n",
            "Epoch 97/100\n",
            "237/237 [==============================] - 1s 2ms/step - loss: 0.0399 - accuracy: 0.9502 - val_loss: 0.0536 - val_accuracy: 0.9417\n",
            "Epoch 98/100\n",
            "237/237 [==============================] - 1s 2ms/step - loss: 0.0377 - accuracy: 0.9539 - val_loss: 0.0388 - val_accuracy: 0.9512\n",
            "Epoch 99/100\n",
            "237/237 [==============================] - 1s 2ms/step - loss: 0.0403 - accuracy: 0.9490 - val_loss: 0.0412 - val_accuracy: 0.9476\n",
            "Epoch 100/100\n",
            "237/237 [==============================] - 1s 2ms/step - loss: 0.0378 - accuracy: 0.9545 - val_loss: 0.0393 - val_accuracy: 0.9536\n"
          ]
        }
      ]
    },
    {
      "cell_type": "code",
      "source": [
        "y_pred = model.predict(X_test)"
      ],
      "metadata": {
        "id": "ZDhgEGcGx_3R"
      },
      "execution_count": null,
      "outputs": []
    },
    {
      "cell_type": "code",
      "source": [
        "y_pred"
      ],
      "metadata": {
        "colab": {
          "base_uri": "https://localhost:8080/"
        },
        "id": "EDvk21klOMu6",
        "outputId": "d4c65a9f-1f7b-4cb5-cf3c-0e7848364b62"
      },
      "execution_count": null,
      "outputs": [
        {
          "output_type": "execute_result",
          "data": {
            "text/plain": [
              "array([[ 0.01396127],\n",
              "       [ 0.06877948],\n",
              "       [ 0.2579491 ],\n",
              "       ...,\n",
              "       [-0.01179114],\n",
              "       [-0.00981188],\n",
              "       [-0.01237065]], dtype=float32)"
            ]
          },
          "metadata": {},
          "execution_count": 80
        }
      ]
    },
    {
      "cell_type": "code",
      "source": [
        "y_pred_01 = []\n",
        "\n",
        "for num in y_pred:\n",
        "  if num[0] < 0.5:\n",
        "    y_pred_01.append(0)\n",
        "  else:\n",
        "    y_pred_01.append(1)"
      ],
      "metadata": {
        "id": "2T0E82uOIZ27"
      },
      "execution_count": null,
      "outputs": []
    },
    {
      "cell_type": "code",
      "source": [
        ""
      ],
      "metadata": {
        "id": "HcQ5ND9NgsUu"
      },
      "execution_count": null,
      "outputs": []
    },
    {
      "cell_type": "code",
      "source": [
        "evaluar_modelo(y_test, y_pred_01)"
      ],
      "metadata": {
        "colab": {
          "base_uri": "https://localhost:8080/"
        },
        "id": "ixO6FFSqz9dE",
        "outputId": "147357d3-ad81-4708-e07a-cf945aa77c11"
      },
      "execution_count": null,
      "outputs": [
        {
          "output_type": "stream",
          "name": "stdout",
          "text": [
            "Precisión: 96.08115619788772\n",
            "Sensibilidad: 90.2439024390244\n",
            "Especificidad: 97.28461280590011\n"
          ]
        }
      ]
    },
    {
      "cell_type": "code",
      "source": [
        "sns.heatmap(confusion_matrix(y_test, y_pred_01), annot=True, fmt=\"d\")"
      ],
      "metadata": {
        "colab": {
          "base_uri": "https://localhost:8080/",
          "height": 286
        },
        "id": "LxgEFRb90E9k",
        "outputId": "13e14da0-33b8-4a68-ca16-05aa1e3bc948"
      },
      "execution_count": null,
      "outputs": [
        {
          "output_type": "execute_result",
          "data": {
            "text/plain": [
              "<matplotlib.axes._subplots.AxesSubplot at 0x7f47cdd74dd0>"
            ]
          },
          "metadata": {},
          "execution_count": 83
        },
        {
          "output_type": "display_data",
          "data": {
            "text/plain": [
              "<Figure size 432x288 with 2 Axes>"
            ],
            "image/png": "[encoded data removed]"
          },
          "metadata": {}
        }
      ]
    },
    {
      "cell_type": "code",
      "source": [
        "from sklearn.linear_model import LogisticRegression"
      ],
      "metadata": {
        "id": "TZddhjm31TzR"
      },
      "execution_count": null,
      "outputs": []
    },
    {
      "cell_type": "code",
      "source": [
        "logreg = LogisticRegression(max_iter = 1000)"
      ],
      "metadata": {
        "id": "CfHZOMO61hl0"
      },
      "execution_count": null,
      "outputs": []
    },
    {
      "cell_type": "code",
      "source": [
        "logreg.fit(X_train, y_train)"
      ],
      "metadata": {
        "colab": {
          "base_uri": "https://localhost:8080/"
        },
        "id": "-Q0bcmUC1nTT",
        "outputId": "69abddb2-8c7c-4911-fded-9b3ae8e33433"
      },
      "execution_count": null,
      "outputs": [
        {
          "output_type": "execute_result",
          "data": {
            "text/plain": [
              "LogisticRegression(max_iter=1000)"
            ]
          },
          "metadata": {},
          "execution_count": 86
        }
      ]
    },
    {
      "cell_type": "code",
      "source": [
        "y_pred = logreg.predict(X_test)"
      ],
      "metadata": {
        "id": "KVFuMcTy1tDW"
      },
      "execution_count": null,
      "outputs": []
    },
    {
      "cell_type": "code",
      "source": [
        "evaluar_modelo(y_test, y_pred)"
      ],
      "metadata": {
        "colab": {
          "base_uri": "https://localhost:8080/"
        },
        "id": "4vezFlD31yPI",
        "outputId": "60f86f88-25cd-4bbe-9ec1-293612a32c18"
      },
      "execution_count": null,
      "outputs": [
        {
          "output_type": "stream",
          "name": "stdout",
          "text": [
            "Precisión: 83.24068927181769\n",
            "Sensibilidad: 21.463414634146343\n",
            "Especificidad: 95.97720415688904\n"
          ]
        }
      ]
    },
    {
      "cell_type": "code",
      "source": [
        "sns.heatmap(confusion_matrix(y_test, y_pred), annot=True, fmt=\"d\")"
      ],
      "metadata": {
        "colab": {
          "base_uri": "https://localhost:8080/",
          "height": 286
        },
        "id": "5RNIXnkE1zuw",
        "outputId": "f9d8cfaf-4bd8-4507-c11d-95a2db522f28"
      },
      "execution_count": null,
      "outputs": [
        {
          "output_type": "execute_result",
          "data": {
            "text/plain": [
              "<matplotlib.axes._subplots.AxesSubplot at 0x7f47cdd03b50>"
            ]
          },
          "metadata": {},
          "execution_count": 89
        },
        {
          "output_type": "display_data",
          "data": {
            "text/plain": [
              "<Figure size 432x288 with 2 Axes>"
            ],
            "image/png": "[encoded data removed]"
          },
          "metadata": {}
        }
      ]
    },
    {
      "cell_type": "code",
      "source": [
        "from imblearn.over_sampling import SMOTE\n",
        "from imblearn.under_sampling import RandomUnderSampler\n",
        "\n",
        "SMOTE = SMOTE()\n",
        "random_under_sampler = RandomUnderSampler(sampling_strategy='majority')"
      ],
      "metadata": {
        "id": "b9H3PqjVbcOI"
      },
      "execution_count": null,
      "outputs": []
    },
    {
      "cell_type": "code",
      "source": [
        "X_train_SMOTE, y_train_SMOTE = SMOTE.fit_resample(X_train, y_train)"
      ],
      "metadata": {
        "id": "9NaLYN0qbkBJ"
      },
      "execution_count": null,
      "outputs": []
    },
    {
      "cell_type": "code",
      "source": [
        "from sklearn.svm import SVC"
      ],
      "metadata": {
        "id": "uefYFuiQbo1B"
      },
      "execution_count": null,
      "outputs": []
    },
    {
      "cell_type": "code",
      "source": [
        "model=SVC()\n",
        "clf_SMOTE = model.fit(X_train_SMOTE, y_train_SMOTE)\n",
        "pred_SMOTE = clf_SMOTE.predict(X_test)"
      ],
      "metadata": {
        "id": "hZSeZyq9btbK"
      },
      "execution_count": null,
      "outputs": []
    },
    {
      "cell_type": "code",
      "source": [
        "evaluar_modelo(y_test, pred_SMOTE)"
      ],
      "metadata": {
        "colab": {
          "base_uri": "https://localhost:8080/"
        },
        "id": "vHKJonYlb60M",
        "outputId": "ec483fdb-e4d5-453a-f644-02d6799635d3"
      },
      "execution_count": null,
      "outputs": [
        {
          "output_type": "stream",
          "name": "stdout",
          "text": [
            "Precisión: 69.62201222901612\n",
            "Sensibilidad: 73.4959349593496\n",
            "Especificidad: 68.82333221589005\n"
          ]
        }
      ]
    },
    {
      "cell_type": "code",
      "source": [
        "random_forest = RandomForestClassifier(n_estimators=200)\n",
        "rf_SMOTE = random_forest.fit(X_train_SMOTE, y_train_SMOTE)\n",
        "pred_SMOTE = rf_SMOTE.predict(X_test)"
      ],
      "metadata": {
        "id": "7CiP3MZFcmQp"
      },
      "execution_count": null,
      "outputs": []
    },
    {
      "cell_type": "code",
      "source": [
        "evaluar_modelo(y_test, pred_SMOTE)"
      ],
      "metadata": {
        "colab": {
          "base_uri": "https://localhost:8080/"
        },
        "id": "KC-jItDhcvKn",
        "outputId": "4305d80a-9560-4b18-8892-6f183ff7540d"
      },
      "execution_count": null,
      "outputs": [
        {
          "output_type": "stream",
          "name": "stdout",
          "text": [
            "Precisión: 97.80433574207893\n",
            "Sensibilidad: 92.84552845528455\n",
            "Especificidad: 98.8266845457593\n"
          ]
        }
      ]
    },
    {
      "cell_type": "code",
      "source": [
        "X_train_RUS, y_train_RUS = random_under_sampler.fit_resample(X_train, y_train)"
      ],
      "metadata": {
        "id": "04mv3KonDcpZ"
      },
      "execution_count": null,
      "outputs": []
    },
    {
      "cell_type": "code",
      "source": [
        "model=SVC()\n",
        "clf_RUS = model.fit(X_train_RUS, y_train_RUS)\n",
        "pred_RUS = clf_RUS.predict(X_test)"
      ],
      "metadata": {
        "id": "kgCmbqXMR-hV"
      },
      "execution_count": null,
      "outputs": []
    },
    {
      "cell_type": "code",
      "source": [
        "evaluar_modelo(y_test, pred_RUS)"
      ],
      "metadata": {
        "colab": {
          "base_uri": "https://localhost:8080/"
        },
        "id": "gzS1wLhYSKEY",
        "outputId": "980eee1f-08dd-49a8-852c-7664d9ecb0a0"
      },
      "execution_count": null,
      "outputs": [
        {
          "output_type": "stream",
          "name": "stdout",
          "text": [
            "Precisión: 67.75986659255142\n",
            "Sensibilidad: 65.52845528455285\n",
            "Especificidad: 68.2199128394234\n"
          ]
        }
      ]
    },
    {
      "cell_type": "code",
      "source": [
        "random_forest = RandomForestClassifier(n_estimators=200)\n",
        "rf_RUS = random_forest.fit(X_train_RUS, y_train_RUS)\n",
        "pred_rus = rf_RUS.predict(X_test)"
      ],
      "metadata": {
        "id": "Y3bGq-YIS6JU"
      },
      "execution_count": null,
      "outputs": []
    },
    {
      "cell_type": "code",
      "source": [
        "evaluar_modelo(y_test, pred_rus)"
      ],
      "metadata": {
        "colab": {
          "base_uri": "https://localhost:8080/"
        },
        "id": "HRFi4NF0TFwD",
        "outputId": "9a89e0aa-7626-40dc-c2bb-35fe7f522013"
      },
      "execution_count": null,
      "outputs": [
        {
          "output_type": "stream",
          "name": "stdout",
          "text": [
            "Precisión: 97.88771539744302\n",
            "Sensibilidad: 93.33333333333333\n",
            "Especificidad: 98.8266845457593\n"
          ]
        }
      ]
    },
    {
      "cell_type": "code",
      "source": [
        "logreg = LogisticRegression(max_iter = 1000)"
      ],
      "metadata": {
        "id": "fPDJbyz_TcJt"
      },
      "execution_count": null,
      "outputs": []
    },
    {
      "cell_type": "code",
      "source": [
        "logreg.fit(X_train_RUS, y_train_RUS)"
      ],
      "metadata": {
        "colab": {
          "base_uri": "https://localhost:8080/"
        },
        "outputId": "e1d98c6c-2b02-4071-ec6a-02a56f829ff8",
        "id": "kms5QpHyTcJt"
      },
      "execution_count": null,
      "outputs": [
        {
          "output_type": "execute_result",
          "data": {
            "text/plain": [
              "LogisticRegression(max_iter=1000)"
            ]
          },
          "metadata": {},
          "execution_count": 111
        }
      ]
    },
    {
      "cell_type": "code",
      "source": [
        "y_pred_RUS = logreg.predict(X_test)"
      ],
      "metadata": {
        "id": "4ftPtWQ0TcJu"
      },
      "execution_count": null,
      "outputs": []
    },
    {
      "cell_type": "code",
      "source": [
        "evaluar_modelo(y_test, y_pred_RUS)"
      ],
      "metadata": {
        "colab": {
          "base_uri": "https://localhost:8080/"
        },
        "outputId": "42386e78-e5e8-4e80-f242-8d70cb6e791f",
        "id": "sPTkZaCwTcJu"
      },
      "execution_count": null,
      "outputs": [
        {
          "output_type": "stream",
          "name": "stdout",
          "text": [
            "Precisión: 78.04335742078933\n",
            "Sensibilidad: 83.41463414634146\n",
            "Especificidad: 76.93597049949716\n"
          ]
        }
      ]
    }
  ]
}